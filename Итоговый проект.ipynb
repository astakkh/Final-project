{
 "cells": [
  {
   "cell_type": "markdown",
   "id": "f8617304",
   "metadata": {
    "id": "9438ef12"
   },
   "source": [
    "**В качестве итогового проекта я решила проанализировать и обработать датасеты, в которых содержится информация о зарплатах дата аналитиков и специалистов в науках о данных в разных странах в период с 2020 по 2024 год. Датасеты взяты с сайта kaggle.com. Я проинтерпретирую данные, избавлюсь от возможных выбросов, проверю некоторые гипотезы и провизуализирую это с пояснениями.**\n",
    "\n",
    "1. [Датасет 1](https://www.kaggle.com/datasets/arnabchaki/data-science-salaries-2023) - 3755 значений\n",
    "2. [Датасет 2](https://www.kaggle.com/datasets/ruchi798/data-science-job-salaries) - 606 значений"
   ]
  },
  {
   "cell_type": "code",
   "execution_count": 2,
   "id": "b96a6bce",
   "metadata": {},
   "outputs": [],
   "source": [
    "import pandas as pd\n",
    "import numpy as np\n",
    "import matplotlib.pyplot as plt\n",
    "import seaborn as sns"
   ]
  },
  {
   "cell_type": "code",
   "execution_count": 4,
   "id": "acc3a4bb",
   "metadata": {
    "id": "acc3a4bb"
   },
   "outputs": [],
   "source": [
    "# Удаляю сообщения о возможных ошибках\n",
    "import warnings\n",
    "warnings.filterwarnings(\"ignore\")"
   ]
  },
  {
   "cell_type": "markdown",
   "id": "3d25fbf2",
   "metadata": {
    "id": "l6XEbXUMr9KS"
   },
   "source": [
    "Знакомлюсь с датасетами"
   ]
  },
  {
   "cell_type": "code",
   "execution_count": 27,
   "id": "c7d9f814",
   "metadata": {},
   "outputs": [
    {
     "name": "stdout",
     "output_type": "stream",
     "text": [
      "<class 'pandas.core.frame.DataFrame'>\n",
      "RangeIndex: 3755 entries, 0 to 3754\n",
      "Data columns (total 11 columns):\n",
      " #   Column              Non-Null Count  Dtype \n",
      "---  ------              --------------  ----- \n",
      " 0   work_year           3755 non-null   int64 \n",
      " 1   experience_level    3755 non-null   object\n",
      " 2   employment_type     3755 non-null   object\n",
      " 3   job_title           3755 non-null   object\n",
      " 4   salary              3755 non-null   int64 \n",
      " 5   salary_currency     3755 non-null   object\n",
      " 6   salary_in_usd       3755 non-null   int64 \n",
      " 7   employee_residence  3755 non-null   object\n",
      " 8   remote_ratio        3755 non-null   int64 \n",
      " 9   company_location    3755 non-null   object\n",
      " 10  company_size        3755 non-null   object\n",
      "dtypes: int64(4), object(7)\n",
      "memory usage: 322.8+ KB\n"
     ]
    },
    {
     "data": {
      "text/html": [
       "<div>\n",
       "<style scoped>\n",
       "    .dataframe tbody tr th:only-of-type {\n",
       "        vertical-align: middle;\n",
       "    }\n",
       "\n",
       "    .dataframe tbody tr th {\n",
       "        vertical-align: top;\n",
       "    }\n",
       "\n",
       "    .dataframe thead th {\n",
       "        text-align: right;\n",
       "    }\n",
       "</style>\n",
       "<table border=\"1\" class=\"dataframe\">\n",
       "  <thead>\n",
       "    <tr style=\"text-align: right;\">\n",
       "      <th></th>\n",
       "      <th>work_year</th>\n",
       "      <th>experience_level</th>\n",
       "      <th>employment_type</th>\n",
       "      <th>job_title</th>\n",
       "      <th>salary</th>\n",
       "      <th>salary_currency</th>\n",
       "      <th>salary_in_usd</th>\n",
       "      <th>employee_residence</th>\n",
       "      <th>remote_ratio</th>\n",
       "      <th>company_location</th>\n",
       "      <th>company_size</th>\n",
       "    </tr>\n",
       "  </thead>\n",
       "  <tbody>\n",
       "    <tr>\n",
       "      <th>0</th>\n",
       "      <td>2023</td>\n",
       "      <td>SE</td>\n",
       "      <td>FT</td>\n",
       "      <td>Principal Data Scientist</td>\n",
       "      <td>80000</td>\n",
       "      <td>EUR</td>\n",
       "      <td>85847</td>\n",
       "      <td>ES</td>\n",
       "      <td>100</td>\n",
       "      <td>ES</td>\n",
       "      <td>L</td>\n",
       "    </tr>\n",
       "    <tr>\n",
       "      <th>1</th>\n",
       "      <td>2023</td>\n",
       "      <td>MI</td>\n",
       "      <td>CT</td>\n",
       "      <td>ML Engineer</td>\n",
       "      <td>30000</td>\n",
       "      <td>USD</td>\n",
       "      <td>30000</td>\n",
       "      <td>US</td>\n",
       "      <td>100</td>\n",
       "      <td>US</td>\n",
       "      <td>S</td>\n",
       "    </tr>\n",
       "    <tr>\n",
       "      <th>2</th>\n",
       "      <td>2023</td>\n",
       "      <td>MI</td>\n",
       "      <td>CT</td>\n",
       "      <td>ML Engineer</td>\n",
       "      <td>25500</td>\n",
       "      <td>USD</td>\n",
       "      <td>25500</td>\n",
       "      <td>US</td>\n",
       "      <td>100</td>\n",
       "      <td>US</td>\n",
       "      <td>S</td>\n",
       "    </tr>\n",
       "    <tr>\n",
       "      <th>3</th>\n",
       "      <td>2023</td>\n",
       "      <td>SE</td>\n",
       "      <td>FT</td>\n",
       "      <td>Data Scientist</td>\n",
       "      <td>175000</td>\n",
       "      <td>USD</td>\n",
       "      <td>175000</td>\n",
       "      <td>CA</td>\n",
       "      <td>100</td>\n",
       "      <td>CA</td>\n",
       "      <td>M</td>\n",
       "    </tr>\n",
       "    <tr>\n",
       "      <th>4</th>\n",
       "      <td>2023</td>\n",
       "      <td>SE</td>\n",
       "      <td>FT</td>\n",
       "      <td>Data Scientist</td>\n",
       "      <td>120000</td>\n",
       "      <td>USD</td>\n",
       "      <td>120000</td>\n",
       "      <td>CA</td>\n",
       "      <td>100</td>\n",
       "      <td>CA</td>\n",
       "      <td>M</td>\n",
       "    </tr>\n",
       "  </tbody>\n",
       "</table>\n",
       "</div>"
      ],
      "text/plain": [
       "   work_year experience_level employment_type                 job_title  \\\n",
       "0       2023               SE              FT  Principal Data Scientist   \n",
       "1       2023               MI              CT               ML Engineer   \n",
       "2       2023               MI              CT               ML Engineer   \n",
       "3       2023               SE              FT            Data Scientist   \n",
       "4       2023               SE              FT            Data Scientist   \n",
       "\n",
       "   salary salary_currency  salary_in_usd employee_residence  remote_ratio  \\\n",
       "0   80000             EUR          85847                 ES           100   \n",
       "1   30000             USD          30000                 US           100   \n",
       "2   25500             USD          25500                 US           100   \n",
       "3  175000             USD         175000                 CA           100   \n",
       "4  120000             USD         120000                 CA           100   \n",
       "\n",
       "  company_location company_size  \n",
       "0               ES            L  \n",
       "1               US            S  \n",
       "2               US            S  \n",
       "3               CA            M  \n",
       "4               CA            M  "
      ]
     },
     "execution_count": 27,
     "metadata": {},
     "output_type": "execute_result"
    }
   ],
   "source": [
    "data1 = pd.read_csv('ds_salaries.csv')\n",
    "data1.info()\n",
    "data1.head()"
   ]
  },
  {
   "cell_type": "code",
   "execution_count": 26,
   "id": "de4b68cc",
   "metadata": {
    "colab": {
     "base_uri": "https://localhost:8080/",
     "height": 326
    },
    "id": "de4b68cc",
    "outputId": "d67cc60b-717a-470f-f3d5-7416a21e9243"
   },
   "outputs": [
    {
     "name": "stdout",
     "output_type": "stream",
     "text": [
      "<class 'pandas.core.frame.DataFrame'>\n",
      "RangeIndex: 607 entries, 0 to 606\n",
      "Data columns (total 12 columns):\n",
      " #   Column              Non-Null Count  Dtype \n",
      "---  ------              --------------  ----- \n",
      " 0   Unnamed: 0          607 non-null    int64 \n",
      " 1   work_year           607 non-null    int64 \n",
      " 2   experience_level    607 non-null    object\n",
      " 3   employment_type     607 non-null    object\n",
      " 4   job_title           607 non-null    object\n",
      " 5   salary              607 non-null    int64 \n",
      " 6   salary_currency     607 non-null    object\n",
      " 7   salary_in_usd       607 non-null    int64 \n",
      " 8   employee_residence  607 non-null    object\n",
      " 9   remote_ratio        607 non-null    int64 \n",
      " 10  company_location    607 non-null    object\n",
      " 11  company_size        607 non-null    object\n",
      "dtypes: int64(5), object(7)\n",
      "memory usage: 57.0+ KB\n"
     ]
    },
    {
     "data": {
      "text/html": [
       "<div>\n",
       "<style scoped>\n",
       "    .dataframe tbody tr th:only-of-type {\n",
       "        vertical-align: middle;\n",
       "    }\n",
       "\n",
       "    .dataframe tbody tr th {\n",
       "        vertical-align: top;\n",
       "    }\n",
       "\n",
       "    .dataframe thead th {\n",
       "        text-align: right;\n",
       "    }\n",
       "</style>\n",
       "<table border=\"1\" class=\"dataframe\">\n",
       "  <thead>\n",
       "    <tr style=\"text-align: right;\">\n",
       "      <th></th>\n",
       "      <th>Unnamed: 0</th>\n",
       "      <th>work_year</th>\n",
       "      <th>experience_level</th>\n",
       "      <th>employment_type</th>\n",
       "      <th>job_title</th>\n",
       "      <th>salary</th>\n",
       "      <th>salary_currency</th>\n",
       "      <th>salary_in_usd</th>\n",
       "      <th>employee_residence</th>\n",
       "      <th>remote_ratio</th>\n",
       "      <th>company_location</th>\n",
       "      <th>company_size</th>\n",
       "    </tr>\n",
       "  </thead>\n",
       "  <tbody>\n",
       "    <tr>\n",
       "      <th>0</th>\n",
       "      <td>0</td>\n",
       "      <td>2020</td>\n",
       "      <td>MI</td>\n",
       "      <td>FT</td>\n",
       "      <td>Data Scientist</td>\n",
       "      <td>70000</td>\n",
       "      <td>EUR</td>\n",
       "      <td>79833</td>\n",
       "      <td>DE</td>\n",
       "      <td>0</td>\n",
       "      <td>DE</td>\n",
       "      <td>L</td>\n",
       "    </tr>\n",
       "    <tr>\n",
       "      <th>1</th>\n",
       "      <td>1</td>\n",
       "      <td>2020</td>\n",
       "      <td>SE</td>\n",
       "      <td>FT</td>\n",
       "      <td>Machine Learning Scientist</td>\n",
       "      <td>260000</td>\n",
       "      <td>USD</td>\n",
       "      <td>260000</td>\n",
       "      <td>JP</td>\n",
       "      <td>0</td>\n",
       "      <td>JP</td>\n",
       "      <td>S</td>\n",
       "    </tr>\n",
       "    <tr>\n",
       "      <th>2</th>\n",
       "      <td>2</td>\n",
       "      <td>2020</td>\n",
       "      <td>SE</td>\n",
       "      <td>FT</td>\n",
       "      <td>Big Data Engineer</td>\n",
       "      <td>85000</td>\n",
       "      <td>GBP</td>\n",
       "      <td>109024</td>\n",
       "      <td>GB</td>\n",
       "      <td>50</td>\n",
       "      <td>GB</td>\n",
       "      <td>M</td>\n",
       "    </tr>\n",
       "    <tr>\n",
       "      <th>3</th>\n",
       "      <td>3</td>\n",
       "      <td>2020</td>\n",
       "      <td>MI</td>\n",
       "      <td>FT</td>\n",
       "      <td>Product Data Analyst</td>\n",
       "      <td>20000</td>\n",
       "      <td>USD</td>\n",
       "      <td>20000</td>\n",
       "      <td>HN</td>\n",
       "      <td>0</td>\n",
       "      <td>HN</td>\n",
       "      <td>S</td>\n",
       "    </tr>\n",
       "    <tr>\n",
       "      <th>4</th>\n",
       "      <td>4</td>\n",
       "      <td>2020</td>\n",
       "      <td>SE</td>\n",
       "      <td>FT</td>\n",
       "      <td>Machine Learning Engineer</td>\n",
       "      <td>150000</td>\n",
       "      <td>USD</td>\n",
       "      <td>150000</td>\n",
       "      <td>US</td>\n",
       "      <td>50</td>\n",
       "      <td>US</td>\n",
       "      <td>L</td>\n",
       "    </tr>\n",
       "  </tbody>\n",
       "</table>\n",
       "</div>"
      ],
      "text/plain": [
       "   Unnamed: 0  work_year experience_level employment_type  \\\n",
       "0           0       2020               MI              FT   \n",
       "1           1       2020               SE              FT   \n",
       "2           2       2020               SE              FT   \n",
       "3           3       2020               MI              FT   \n",
       "4           4       2020               SE              FT   \n",
       "\n",
       "                    job_title  salary salary_currency  salary_in_usd  \\\n",
       "0              Data Scientist   70000             EUR          79833   \n",
       "1  Machine Learning Scientist  260000             USD         260000   \n",
       "2           Big Data Engineer   85000             GBP         109024   \n",
       "3        Product Data Analyst   20000             USD          20000   \n",
       "4   Machine Learning Engineer  150000             USD         150000   \n",
       "\n",
       "  employee_residence  remote_ratio company_location company_size  \n",
       "0                 DE             0               DE            L  \n",
       "1                 JP             0               JP            S  \n",
       "2                 GB            50               GB            M  \n",
       "3                 HN             0               HN            S  \n",
       "4                 US            50               US            L  "
      ]
     },
     "execution_count": 26,
     "metadata": {},
     "output_type": "execute_result"
    }
   ],
   "source": [
    "data2 = pd.read_csv('ds_salaries-2.csv')\n",
    "data2.info()\n",
    "data2.head()"
   ]
  },
  {
   "cell_type": "code",
   "execution_count": 42,
   "id": "750e38ce",
   "metadata": {},
   "outputs": [
    {
     "data": {
      "text/html": [
       "<div>\n",
       "<style scoped>\n",
       "    .dataframe tbody tr th:only-of-type {\n",
       "        vertical-align: middle;\n",
       "    }\n",
       "\n",
       "    .dataframe tbody tr th {\n",
       "        vertical-align: top;\n",
       "    }\n",
       "\n",
       "    .dataframe thead th {\n",
       "        text-align: right;\n",
       "    }\n",
       "</style>\n",
       "<table border=\"1\" class=\"dataframe\">\n",
       "  <thead>\n",
       "    <tr style=\"text-align: right;\">\n",
       "      <th></th>\n",
       "      <th>Unnamed</th>\n",
       "      <th>work_year</th>\n",
       "      <th>experience_level</th>\n",
       "      <th>employment_type</th>\n",
       "      <th>job_title</th>\n",
       "      <th>salary</th>\n",
       "      <th>salary_currency</th>\n",
       "      <th>salary_in_usd</th>\n",
       "      <th>employee_residence</th>\n",
       "      <th>remote_ratio</th>\n",
       "      <th>company_location</th>\n",
       "      <th>company_size</th>\n",
       "    </tr>\n",
       "  </thead>\n",
       "  <tbody>\n",
       "    <tr>\n",
       "      <th>0</th>\n",
       "      <td>0</td>\n",
       "      <td>2020</td>\n",
       "      <td>MI</td>\n",
       "      <td>FT</td>\n",
       "      <td>Data Scientist</td>\n",
       "      <td>70000</td>\n",
       "      <td>EUR</td>\n",
       "      <td>79833</td>\n",
       "      <td>DE</td>\n",
       "      <td>0</td>\n",
       "      <td>DE</td>\n",
       "      <td>L</td>\n",
       "    </tr>\n",
       "    <tr>\n",
       "      <th>1</th>\n",
       "      <td>1</td>\n",
       "      <td>2020</td>\n",
       "      <td>SE</td>\n",
       "      <td>FT</td>\n",
       "      <td>Machine Learning Scientist</td>\n",
       "      <td>260000</td>\n",
       "      <td>USD</td>\n",
       "      <td>260000</td>\n",
       "      <td>JP</td>\n",
       "      <td>0</td>\n",
       "      <td>JP</td>\n",
       "      <td>S</td>\n",
       "    </tr>\n",
       "    <tr>\n",
       "      <th>2</th>\n",
       "      <td>2</td>\n",
       "      <td>2020</td>\n",
       "      <td>SE</td>\n",
       "      <td>FT</td>\n",
       "      <td>Big Data Engineer</td>\n",
       "      <td>85000</td>\n",
       "      <td>GBP</td>\n",
       "      <td>109024</td>\n",
       "      <td>GB</td>\n",
       "      <td>50</td>\n",
       "      <td>GB</td>\n",
       "      <td>M</td>\n",
       "    </tr>\n",
       "    <tr>\n",
       "      <th>3</th>\n",
       "      <td>3</td>\n",
       "      <td>2020</td>\n",
       "      <td>MI</td>\n",
       "      <td>FT</td>\n",
       "      <td>Product Data Analyst</td>\n",
       "      <td>20000</td>\n",
       "      <td>USD</td>\n",
       "      <td>20000</td>\n",
       "      <td>HN</td>\n",
       "      <td>0</td>\n",
       "      <td>HN</td>\n",
       "      <td>S</td>\n",
       "    </tr>\n",
       "    <tr>\n",
       "      <th>4</th>\n",
       "      <td>4</td>\n",
       "      <td>2020</td>\n",
       "      <td>SE</td>\n",
       "      <td>FT</td>\n",
       "      <td>Machine Learning Engineer</td>\n",
       "      <td>150000</td>\n",
       "      <td>USD</td>\n",
       "      <td>150000</td>\n",
       "      <td>US</td>\n",
       "      <td>50</td>\n",
       "      <td>US</td>\n",
       "      <td>L</td>\n",
       "    </tr>\n",
       "  </tbody>\n",
       "</table>\n",
       "</div>"
      ],
      "text/plain": [
       "   Unnamed  work_year experience_level employment_type  \\\n",
       "0        0       2020               MI              FT   \n",
       "1        1       2020               SE              FT   \n",
       "2        2       2020               SE              FT   \n",
       "3        3       2020               MI              FT   \n",
       "4        4       2020               SE              FT   \n",
       "\n",
       "                    job_title  salary salary_currency  salary_in_usd  \\\n",
       "0              Data Scientist   70000             EUR          79833   \n",
       "1  Machine Learning Scientist  260000             USD         260000   \n",
       "2           Big Data Engineer   85000             GBP         109024   \n",
       "3        Product Data Analyst   20000             USD          20000   \n",
       "4   Machine Learning Engineer  150000             USD         150000   \n",
       "\n",
       "  employee_residence  remote_ratio company_location company_size  \n",
       "0                 DE             0               DE            L  \n",
       "1                 JP             0               JP            S  \n",
       "2                 GB            50               GB            M  \n",
       "3                 HN             0               HN            S  \n",
       "4                 US            50               US            L  "
      ]
     },
     "execution_count": 42,
     "metadata": {},
     "output_type": "execute_result"
    }
   ],
   "source": [
    "data2 = data2.rename(columns={'Unnamed: 0': 'Unnamed'})\n",
    "data2.head() #переименую колонку для последующего удаления"
   ]
  },
  {
   "cell_type": "markdown",
   "id": "844e7667",
   "metadata": {},
   "source": [
    "Объединяю датасеты - так как у них одинаковые названия переменных, оно корректно объединится в один датасет."
   ]
  },
  {
   "cell_type": "code",
   "execution_count": 46,
   "id": "1bc9ce9e",
   "metadata": {},
   "outputs": [
    {
     "data": {
      "text/html": [
       "<div>\n",
       "<style scoped>\n",
       "    .dataframe tbody tr th:only-of-type {\n",
       "        vertical-align: middle;\n",
       "    }\n",
       "\n",
       "    .dataframe tbody tr th {\n",
       "        vertical-align: top;\n",
       "    }\n",
       "\n",
       "    .dataframe thead th {\n",
       "        text-align: right;\n",
       "    }\n",
       "</style>\n",
       "<table border=\"1\" class=\"dataframe\">\n",
       "  <thead>\n",
       "    <tr style=\"text-align: right;\">\n",
       "      <th></th>\n",
       "      <th>work_year</th>\n",
       "      <th>experience_level</th>\n",
       "      <th>employment_type</th>\n",
       "      <th>job_title</th>\n",
       "      <th>salary</th>\n",
       "      <th>salary_currency</th>\n",
       "      <th>salary_in_usd</th>\n",
       "      <th>employee_residence</th>\n",
       "      <th>remote_ratio</th>\n",
       "      <th>company_location</th>\n",
       "      <th>company_size</th>\n",
       "      <th>Unnamed</th>\n",
       "    </tr>\n",
       "  </thead>\n",
       "  <tbody>\n",
       "    <tr>\n",
       "      <th>0</th>\n",
       "      <td>2023</td>\n",
       "      <td>SE</td>\n",
       "      <td>FT</td>\n",
       "      <td>Principal Data Scientist</td>\n",
       "      <td>80000</td>\n",
       "      <td>EUR</td>\n",
       "      <td>85847</td>\n",
       "      <td>ES</td>\n",
       "      <td>100</td>\n",
       "      <td>ES</td>\n",
       "      <td>L</td>\n",
       "      <td>NaN</td>\n",
       "    </tr>\n",
       "    <tr>\n",
       "      <th>1</th>\n",
       "      <td>2023</td>\n",
       "      <td>MI</td>\n",
       "      <td>CT</td>\n",
       "      <td>ML Engineer</td>\n",
       "      <td>30000</td>\n",
       "      <td>USD</td>\n",
       "      <td>30000</td>\n",
       "      <td>US</td>\n",
       "      <td>100</td>\n",
       "      <td>US</td>\n",
       "      <td>S</td>\n",
       "      <td>NaN</td>\n",
       "    </tr>\n",
       "    <tr>\n",
       "      <th>2</th>\n",
       "      <td>2023</td>\n",
       "      <td>MI</td>\n",
       "      <td>CT</td>\n",
       "      <td>ML Engineer</td>\n",
       "      <td>25500</td>\n",
       "      <td>USD</td>\n",
       "      <td>25500</td>\n",
       "      <td>US</td>\n",
       "      <td>100</td>\n",
       "      <td>US</td>\n",
       "      <td>S</td>\n",
       "      <td>NaN</td>\n",
       "    </tr>\n",
       "    <tr>\n",
       "      <th>3</th>\n",
       "      <td>2023</td>\n",
       "      <td>SE</td>\n",
       "      <td>FT</td>\n",
       "      <td>Data Scientist</td>\n",
       "      <td>175000</td>\n",
       "      <td>USD</td>\n",
       "      <td>175000</td>\n",
       "      <td>CA</td>\n",
       "      <td>100</td>\n",
       "      <td>CA</td>\n",
       "      <td>M</td>\n",
       "      <td>NaN</td>\n",
       "    </tr>\n",
       "    <tr>\n",
       "      <th>4</th>\n",
       "      <td>2023</td>\n",
       "      <td>SE</td>\n",
       "      <td>FT</td>\n",
       "      <td>Data Scientist</td>\n",
       "      <td>120000</td>\n",
       "      <td>USD</td>\n",
       "      <td>120000</td>\n",
       "      <td>CA</td>\n",
       "      <td>100</td>\n",
       "      <td>CA</td>\n",
       "      <td>M</td>\n",
       "      <td>NaN</td>\n",
       "    </tr>\n",
       "  </tbody>\n",
       "</table>\n",
       "</div>"
      ],
      "text/plain": [
       "   work_year experience_level employment_type                 job_title  \\\n",
       "0       2023               SE              FT  Principal Data Scientist   \n",
       "1       2023               MI              CT               ML Engineer   \n",
       "2       2023               MI              CT               ML Engineer   \n",
       "3       2023               SE              FT            Data Scientist   \n",
       "4       2023               SE              FT            Data Scientist   \n",
       "\n",
       "   salary salary_currency  salary_in_usd employee_residence  remote_ratio  \\\n",
       "0   80000             EUR          85847                 ES           100   \n",
       "1   30000             USD          30000                 US           100   \n",
       "2   25500             USD          25500                 US           100   \n",
       "3  175000             USD         175000                 CA           100   \n",
       "4  120000             USD         120000                 CA           100   \n",
       "\n",
       "  company_location company_size  Unnamed  \n",
       "0               ES            L      NaN  \n",
       "1               US            S      NaN  \n",
       "2               US            S      NaN  \n",
       "3               CA            M      NaN  \n",
       "4               CA            M      NaN  "
      ]
     },
     "execution_count": 46,
     "metadata": {},
     "output_type": "execute_result"
    }
   ],
   "source": [
    "data = pd.concat([data1, data2], axis=0)\n",
    "data.head()"
   ]
  },
  {
   "cell_type": "markdown",
   "id": "fe24cfb7",
   "metadata": {
    "id": "fe24cfb7"
   },
   "source": [
    "**Информация о переменных с обоих датасетов**\n",
    "1. **work_year**: год, в период которого берётся зарплата; тип данных: int64;\n",
    "2. **experience_level**: уровень опыта работы на должности в течение года; тип данных: object;\n",
    "3. **employment_type**: тип занятости для должности; тип данных: object;\n",
    "4. **job_title**: должность, на которой работали в течение года; тип данных: object;\n",
    "5. **salary: зарплата**; тип данных: int64;\n",
    "6. **salary_currency**: валюта выплачиваемой зарплаты в виде кода валюты ISO 4217; тип данных: object;\n",
    "7. **salary_in_usd**: зарплата в долларах США; тип данных: int64;\n",
    "8. **employee_residence**: основная страна проживания сотрудника в течение рабочего года в виде кода страны ISO 3166 тип данных: object;\n",
    "9. **remote_ratio**: общий объем работы, выполненной удаленно; тип данных: int64;\n",
    "10. **company_location**: cтрана головного офиса или филиала работодателя; тип данных: object;\n",
    "11. **company_size**: cреднее количество людей, работавших в компании в течение года (Large, Medium, Small); тип данных: object;\n",
    "12. **Unnamed: 0**: индекс строк с датасета 1, необходимо удалить для корректной работы с данными."
   ]
  },
  {
   "cell_type": "code",
   "execution_count": 48,
   "id": "a230a1ca",
   "metadata": {},
   "outputs": [
    {
     "data": {
      "text/html": [
       "<div>\n",
       "<style scoped>\n",
       "    .dataframe tbody tr th:only-of-type {\n",
       "        vertical-align: middle;\n",
       "    }\n",
       "\n",
       "    .dataframe tbody tr th {\n",
       "        vertical-align: top;\n",
       "    }\n",
       "\n",
       "    .dataframe thead th {\n",
       "        text-align: right;\n",
       "    }\n",
       "</style>\n",
       "<table border=\"1\" class=\"dataframe\">\n",
       "  <thead>\n",
       "    <tr style=\"text-align: right;\">\n",
       "      <th></th>\n",
       "      <th>work_year</th>\n",
       "      <th>experience_level</th>\n",
       "      <th>employment_type</th>\n",
       "      <th>job_title</th>\n",
       "      <th>salary</th>\n",
       "      <th>salary_currency</th>\n",
       "      <th>salary_in_usd</th>\n",
       "      <th>employee_residence</th>\n",
       "      <th>remote_ratio</th>\n",
       "      <th>company_location</th>\n",
       "      <th>company_size</th>\n",
       "    </tr>\n",
       "  </thead>\n",
       "  <tbody>\n",
       "    <tr>\n",
       "      <th>0</th>\n",
       "      <td>2023</td>\n",
       "      <td>SE</td>\n",
       "      <td>FT</td>\n",
       "      <td>Principal Data Scientist</td>\n",
       "      <td>80000</td>\n",
       "      <td>EUR</td>\n",
       "      <td>85847</td>\n",
       "      <td>ES</td>\n",
       "      <td>100</td>\n",
       "      <td>ES</td>\n",
       "      <td>L</td>\n",
       "    </tr>\n",
       "    <tr>\n",
       "      <th>1</th>\n",
       "      <td>2023</td>\n",
       "      <td>MI</td>\n",
       "      <td>CT</td>\n",
       "      <td>ML Engineer</td>\n",
       "      <td>30000</td>\n",
       "      <td>USD</td>\n",
       "      <td>30000</td>\n",
       "      <td>US</td>\n",
       "      <td>100</td>\n",
       "      <td>US</td>\n",
       "      <td>S</td>\n",
       "    </tr>\n",
       "    <tr>\n",
       "      <th>2</th>\n",
       "      <td>2023</td>\n",
       "      <td>MI</td>\n",
       "      <td>CT</td>\n",
       "      <td>ML Engineer</td>\n",
       "      <td>25500</td>\n",
       "      <td>USD</td>\n",
       "      <td>25500</td>\n",
       "      <td>US</td>\n",
       "      <td>100</td>\n",
       "      <td>US</td>\n",
       "      <td>S</td>\n",
       "    </tr>\n",
       "    <tr>\n",
       "      <th>3</th>\n",
       "      <td>2023</td>\n",
       "      <td>SE</td>\n",
       "      <td>FT</td>\n",
       "      <td>Data Scientist</td>\n",
       "      <td>175000</td>\n",
       "      <td>USD</td>\n",
       "      <td>175000</td>\n",
       "      <td>CA</td>\n",
       "      <td>100</td>\n",
       "      <td>CA</td>\n",
       "      <td>M</td>\n",
       "    </tr>\n",
       "    <tr>\n",
       "      <th>4</th>\n",
       "      <td>2023</td>\n",
       "      <td>SE</td>\n",
       "      <td>FT</td>\n",
       "      <td>Data Scientist</td>\n",
       "      <td>120000</td>\n",
       "      <td>USD</td>\n",
       "      <td>120000</td>\n",
       "      <td>CA</td>\n",
       "      <td>100</td>\n",
       "      <td>CA</td>\n",
       "      <td>M</td>\n",
       "    </tr>\n",
       "  </tbody>\n",
       "</table>\n",
       "</div>"
      ],
      "text/plain": [
       "   work_year experience_level employment_type                 job_title  \\\n",
       "0       2023               SE              FT  Principal Data Scientist   \n",
       "1       2023               MI              CT               ML Engineer   \n",
       "2       2023               MI              CT               ML Engineer   \n",
       "3       2023               SE              FT            Data Scientist   \n",
       "4       2023               SE              FT            Data Scientist   \n",
       "\n",
       "   salary salary_currency  salary_in_usd employee_residence  remote_ratio  \\\n",
       "0   80000             EUR          85847                 ES           100   \n",
       "1   30000             USD          30000                 US           100   \n",
       "2   25500             USD          25500                 US           100   \n",
       "3  175000             USD         175000                 CA           100   \n",
       "4  120000             USD         120000                 CA           100   \n",
       "\n",
       "  company_location company_size  \n",
       "0               ES            L  \n",
       "1               US            S  \n",
       "2               US            S  \n",
       "3               CA            M  \n",
       "4               CA            M  "
      ]
     },
     "execution_count": 48,
     "metadata": {},
     "output_type": "execute_result"
    }
   ],
   "source": [
    "data = data.drop(['Unnamed'], axis=1)\n",
    "data.head()"
   ]
  },
  {
   "cell_type": "code",
   "execution_count": 49,
   "id": "65c30436",
   "metadata": {
    "colab": {
     "base_uri": "https://localhost:8080/"
    },
    "id": "65c30436",
    "outputId": "93265feb-4f92-462f-9725-eea57e304c23"
   },
   "outputs": [
    {
     "data": {
      "text/plain": [
       "(4362, 11)"
      ]
     },
     "execution_count": 49,
     "metadata": {},
     "output_type": "execute_result"
    }
   ],
   "source": [
    "data.shape"
   ]
  },
  {
   "cell_type": "code",
   "execution_count": 50,
   "id": "491c6846",
   "metadata": {
    "colab": {
     "base_uri": "https://localhost:8080/"
    },
    "id": "491c6846",
    "outputId": "363aa8a3-0305-418d-9e4f-ffe4d74e4176"
   },
   "outputs": [
    {
     "data": {
      "text/plain": [
       "work_year              int64\n",
       "experience_level      object\n",
       "employment_type       object\n",
       "job_title             object\n",
       "salary                 int64\n",
       "salary_currency       object\n",
       "salary_in_usd          int64\n",
       "employee_residence    object\n",
       "remote_ratio           int64\n",
       "company_location      object\n",
       "company_size          object\n",
       "dtype: object"
      ]
     },
     "execution_count": 50,
     "metadata": {},
     "output_type": "execute_result"
    }
   ],
   "source": [
    "data.dtypes"
   ]
  },
  {
   "cell_type": "markdown",
   "id": "7ecd1711",
   "metadata": {
    "id": "7ecd1711"
   },
   "source": [
    "### Фильтрация"
   ]
  },
  {
   "cell_type": "markdown",
   "id": "7203b36b",
   "metadata": {
    "id": "7203b36b"
   },
   "source": [
    "**Фильтрация 1**. Количество компаний в США с крупным размером"
   ]
  },
  {
   "cell_type": "code",
   "execution_count": 58,
   "id": "0cf2228c",
   "metadata": {
    "colab": {
     "base_uri": "https://localhost:8080/"
    },
    "id": "0cf2228c",
    "outputId": "61d598ca-7583-4ee0-a68e-5fecc185f248"
   },
   "outputs": [
    {
     "data": {
      "text/plain": [
       "369"
      ]
     },
     "execution_count": 58,
     "metadata": {},
     "output_type": "execute_result"
    }
   ],
   "source": [
    "data[(data['company_location'] == 'US') & (data['company_size'] == \"L\")].shape[0]"
   ]
  },
  {
   "cell_type": "markdown",
   "id": "2c130226",
   "metadata": {
    "id": "2c130226"
   },
   "source": [
    "**Вывод**: в выборке содержится 369 специалистов с работой в крупных компаниях, находящихся в США. Это позволяет ближе рассмотреть тренды и особенности зарплат и должностей в этом сегменте рынка труда."
   ]
  },
  {
   "cell_type": "markdown",
   "id": "b160a592",
   "metadata": {
    "id": "b160a592"
   },
   "source": [
    "**Фильтрация 2**. Количество компаний в США с зарплатой выше 50 000 USD"
   ]
  },
  {
   "cell_type": "code",
   "execution_count": 59,
   "id": "06df234b",
   "metadata": {
    "colab": {
     "base_uri": "https://localhost:8080/"
    },
    "id": "06df234b",
    "outputId": "258ee14f-527a-4559-fa84-064cf4b5e1f2"
   },
   "outputs": [
    {
     "data": {
      "text/plain": [
       "3339"
      ]
     },
     "execution_count": 59,
     "metadata": {},
     "output_type": "execute_result"
    }
   ],
   "source": [
    "data[(data['company_location'] == 'US') & (data['salary_in_usd'] > 50000)].shape[0]"
   ]
  },
  {
   "cell_type": "markdown",
   "id": "d095f150",
   "metadata": {
    "id": "d095f150"
   },
   "source": [
    "**Вывод**: в выборке содержится 3339 записей о работе в компаниях, расположенных в США, где зарплата превышает 50 000 USD. Эти данные важны для понимания структуры заработной платы и возможностей трудоустройства в высокооплачиваемых американских компаниях."
   ]
  },
  {
   "cell_type": "markdown",
   "id": "a28a20c3",
   "metadata": {
    "id": "a28a20c3"
   },
   "source": [
    "**Фильтрация 3**. Фильтрация по опыту и типу занятости в крупных компаниях с зарплатой выше средней."
   ]
  },
  {
   "cell_type": "code",
   "execution_count": 60,
   "id": "e206fe9d",
   "metadata": {
    "colab": {
     "base_uri": "https://localhost:8080/"
    },
    "id": "e206fe9d",
    "outputId": "d04c3bc1-9c1e-4cb2-d4c9-10a2480f032f"
   },
   "outputs": [
    {
     "data": {
      "text/plain": [
       "212"
      ]
     },
     "execution_count": 60,
     "metadata": {},
     "output_type": "execute_result"
    }
   ],
   "source": [
    "data[(data['company_size'] == 'L') & (data['salary_in_usd'] > data['salary_in_usd'].mean()) & (data['experience_level'].isin(['SE', 'MI']))].shape[0]"
   ]
  },
  {
   "cell_type": "markdown",
   "id": "78acfea3",
   "metadata": {
    "id": "78acfea3"
   },
   "source": [
    "**Вывод**: в выборке содержится 212 специалистов в крупных компаниях с высокой зарплатой, где требуется опыт на старшем или среднем уровне. Это может быть важным для тех, кто ищет высокооплачиваемую позицию в крупной компании."
   ]
  },
  {
   "cell_type": "code",
   "execution_count": null,
   "id": "bzVfFfw4gs0z",
   "metadata": {
    "id": "bzVfFfw4gs0z"
   },
   "outputs": [],
   "source": []
  },
  {
   "cell_type": "markdown",
   "id": "9ab70fe1",
   "metadata": {
    "id": "9ab70fe1"
   },
   "source": [
    "**Фильтрация 4**. Фильтрация по очной работе в США."
   ]
  },
  {
   "cell_type": "code",
   "execution_count": 61,
   "id": "24b10ae3",
   "metadata": {
    "colab": {
     "base_uri": "https://localhost:8080/"
    },
    "id": "24b10ae3",
    "outputId": "dbc3d1fa-4028-4f02-b598-27b01f3dd201"
   },
   "outputs": [
    {
     "data": {
      "text/plain": [
       "1738"
      ]
     },
     "execution_count": 61,
     "metadata": {},
     "output_type": "execute_result"
    }
   ],
   "source": [
    "data[(data['company_location'] == 'US') & (data['remote_ratio'] == 0)].shape[0]"
   ]
  },
  {
   "cell_type": "markdown",
   "id": "18a689c7",
   "metadata": {
    "id": "18a689c7"
   },
   "source": [
    "**Вывод**: в нашей выборке есть 1738 записи о работе в компаниях в США, где предусмотрено только очное присутствие сотрудников. Эта информация может быть важной для тех, кто ищет традиционные рабочие условия и предпочитает работать непосредственно на месте."
   ]
  },
  {
   "cell_type": "markdown",
   "id": "a4bd3e5d",
   "metadata": {
    "id": "a4bd3e5d"
   },
   "source": [
    "**Фильтрация 5**. Фильтрация по месту жительства в России или Украине с полной занятостью."
   ]
  },
  {
   "cell_type": "code",
   "execution_count": 62,
   "id": "3d2d1e3f",
   "metadata": {
    "colab": {
     "base_uri": "https://localhost:8080/"
    },
    "id": "3d2d1e3f",
    "outputId": "32331e35-a48e-4621-df01-f92e3d9243bf",
    "scrolled": true
   },
   "outputs": [
    {
     "data": {
      "text/plain": [
       "10"
      ]
     },
     "execution_count": 62,
     "metadata": {},
     "output_type": "execute_result"
    }
   ],
   "source": [
    "data[(data['employee_residence'].isin(['RU', 'UA']))  & (data['employment_type'] == 'FT')].shape[0]"
   ]
  },
  {
   "cell_type": "markdown",
   "id": "180c5784",
   "metadata": {
    "id": "180c5784"
   },
   "source": [
    "**Вывод**: в нашей выборке всего 10 записей о работе с полной занятостью для сотрудников, проживающих в России или Украине. Это может быть важной информацией для тех, кто ищет работу на полную ставку в этих странах."
   ]
  },
  {
   "cell_type": "markdown",
   "id": "2e467be3",
   "metadata": {
    "id": "2e467be3"
   },
   "source": [
    "### Сортировки"
   ]
  },
  {
   "cell_type": "markdown",
   "id": "95034add",
   "metadata": {
    "id": "95034add"
   },
   "source": [
    "**Сортировка 1**. Сортировка данных по зарплате в порядке убывания"
   ]
  },
  {
   "cell_type": "code",
   "execution_count": 63,
   "id": "7ef2182c",
   "metadata": {
    "colab": {
     "base_uri": "https://localhost:8080/",
     "height": 343
    },
    "id": "7ef2182c",
    "outputId": "bb175425-dfe4-4833-b60b-9007f852bbd0"
   },
   "outputs": [
    {
     "data": {
      "text/html": [
       "<div>\n",
       "<style scoped>\n",
       "    .dataframe tbody tr th:only-of-type {\n",
       "        vertical-align: middle;\n",
       "    }\n",
       "\n",
       "    .dataframe tbody tr th {\n",
       "        vertical-align: top;\n",
       "    }\n",
       "\n",
       "    .dataframe thead th {\n",
       "        text-align: right;\n",
       "    }\n",
       "</style>\n",
       "<table border=\"1\" class=\"dataframe\">\n",
       "  <thead>\n",
       "    <tr style=\"text-align: right;\">\n",
       "      <th></th>\n",
       "      <th>work_year</th>\n",
       "      <th>experience_level</th>\n",
       "      <th>employment_type</th>\n",
       "      <th>job_title</th>\n",
       "      <th>salary</th>\n",
       "      <th>salary_currency</th>\n",
       "      <th>salary_in_usd</th>\n",
       "      <th>employee_residence</th>\n",
       "      <th>remote_ratio</th>\n",
       "      <th>company_location</th>\n",
       "      <th>company_size</th>\n",
       "    </tr>\n",
       "  </thead>\n",
       "  <tbody>\n",
       "    <tr>\n",
       "      <th>252</th>\n",
       "      <td>2021</td>\n",
       "      <td>EX</td>\n",
       "      <td>FT</td>\n",
       "      <td>Principal Data Engineer</td>\n",
       "      <td>600000</td>\n",
       "      <td>USD</td>\n",
       "      <td>600000</td>\n",
       "      <td>US</td>\n",
       "      <td>100</td>\n",
       "      <td>US</td>\n",
       "      <td>L</td>\n",
       "    </tr>\n",
       "    <tr>\n",
       "      <th>33</th>\n",
       "      <td>2020</td>\n",
       "      <td>MI</td>\n",
       "      <td>FT</td>\n",
       "      <td>Research Scientist</td>\n",
       "      <td>450000</td>\n",
       "      <td>USD</td>\n",
       "      <td>450000</td>\n",
       "      <td>US</td>\n",
       "      <td>0</td>\n",
       "      <td>US</td>\n",
       "      <td>M</td>\n",
       "    </tr>\n",
       "    <tr>\n",
       "      <th>3522</th>\n",
       "      <td>2020</td>\n",
       "      <td>MI</td>\n",
       "      <td>FT</td>\n",
       "      <td>Research Scientist</td>\n",
       "      <td>450000</td>\n",
       "      <td>USD</td>\n",
       "      <td>450000</td>\n",
       "      <td>US</td>\n",
       "      <td>0</td>\n",
       "      <td>US</td>\n",
       "      <td>M</td>\n",
       "    </tr>\n",
       "    <tr>\n",
       "      <th>97</th>\n",
       "      <td>2021</td>\n",
       "      <td>MI</td>\n",
       "      <td>FT</td>\n",
       "      <td>Financial Data Analyst</td>\n",
       "      <td>450000</td>\n",
       "      <td>USD</td>\n",
       "      <td>450000</td>\n",
       "      <td>US</td>\n",
       "      <td>100</td>\n",
       "      <td>US</td>\n",
       "      <td>L</td>\n",
       "    </tr>\n",
       "    <tr>\n",
       "      <th>2011</th>\n",
       "      <td>2022</td>\n",
       "      <td>MI</td>\n",
       "      <td>FT</td>\n",
       "      <td>Data Analyst</td>\n",
       "      <td>350000</td>\n",
       "      <td>GBP</td>\n",
       "      <td>430967</td>\n",
       "      <td>GB</td>\n",
       "      <td>0</td>\n",
       "      <td>GB</td>\n",
       "      <td>M</td>\n",
       "    </tr>\n",
       "  </tbody>\n",
       "</table>\n",
       "</div>"
      ],
      "text/plain": [
       "      work_year experience_level employment_type                job_title  \\\n",
       "252        2021               EX              FT  Principal Data Engineer   \n",
       "33         2020               MI              FT       Research Scientist   \n",
       "3522       2020               MI              FT       Research Scientist   \n",
       "97         2021               MI              FT   Financial Data Analyst   \n",
       "2011       2022               MI              FT             Data Analyst   \n",
       "\n",
       "      salary salary_currency  salary_in_usd employee_residence  remote_ratio  \\\n",
       "252   600000             USD         600000                 US           100   \n",
       "33    450000             USD         450000                 US             0   \n",
       "3522  450000             USD         450000                 US             0   \n",
       "97    450000             USD         450000                 US           100   \n",
       "2011  350000             GBP         430967                 GB             0   \n",
       "\n",
       "     company_location company_size  \n",
       "252                US            L  \n",
       "33                 US            M  \n",
       "3522               US            M  \n",
       "97                 US            L  \n",
       "2011               GB            M  "
      ]
     },
     "execution_count": 63,
     "metadata": {},
     "output_type": "execute_result"
    }
   ],
   "source": [
    "data.sort_values(by='salary_in_usd', ascending=False).head()"
   ]
  },
  {
   "cell_type": "markdown",
   "id": "ba2b87f4",
   "metadata": {
    "id": "ba2b87f4"
   },
   "source": [
    "**Вывод**: путем сортировки данных по убыванию зарплаты я выявила, что в наборе данных есть высокооплачиваемые позиции с зарплатой до 600000$."
   ]
  },
  {
   "cell_type": "markdown",
   "id": "e2a879a5",
   "metadata": {
    "id": "e2a879a5"
   },
   "source": [
    "**Сортировка 2**. Сортировка данных по размеру компании в порядке возрастания"
   ]
  },
  {
   "cell_type": "code",
   "execution_count": 64,
   "id": "f3a4f09d",
   "metadata": {
    "colab": {
     "base_uri": "https://localhost:8080/",
     "height": 677
    },
    "id": "f3a4f09d",
    "outputId": "15d37567-b18e-4e5a-c907-138274c7c12b"
   },
   "outputs": [
    {
     "data": {
      "text/html": [
       "<div>\n",
       "<style scoped>\n",
       "    .dataframe tbody tr th:only-of-type {\n",
       "        vertical-align: middle;\n",
       "    }\n",
       "\n",
       "    .dataframe tbody tr th {\n",
       "        vertical-align: top;\n",
       "    }\n",
       "\n",
       "    .dataframe thead th {\n",
       "        text-align: right;\n",
       "    }\n",
       "</style>\n",
       "<table border=\"1\" class=\"dataframe\">\n",
       "  <thead>\n",
       "    <tr style=\"text-align: right;\">\n",
       "      <th></th>\n",
       "      <th>work_year</th>\n",
       "      <th>experience_level</th>\n",
       "      <th>employment_type</th>\n",
       "      <th>job_title</th>\n",
       "      <th>salary</th>\n",
       "      <th>salary_currency</th>\n",
       "      <th>salary_in_usd</th>\n",
       "      <th>employee_residence</th>\n",
       "      <th>remote_ratio</th>\n",
       "      <th>company_location</th>\n",
       "      <th>company_size</th>\n",
       "    </tr>\n",
       "  </thead>\n",
       "  <tbody>\n",
       "    <tr>\n",
       "      <th>99</th>\n",
       "      <td>2021</td>\n",
       "      <td>MI</td>\n",
       "      <td>FT</td>\n",
       "      <td>Computer Vision Software Engineer</td>\n",
       "      <td>81000</td>\n",
       "      <td>EUR</td>\n",
       "      <td>95746</td>\n",
       "      <td>DE</td>\n",
       "      <td>100</td>\n",
       "      <td>US</td>\n",
       "      <td>S</td>\n",
       "    </tr>\n",
       "    <tr>\n",
       "      <th>244</th>\n",
       "      <td>2021</td>\n",
       "      <td>EN</td>\n",
       "      <td>FT</td>\n",
       "      <td>AI Scientist</td>\n",
       "      <td>1335000</td>\n",
       "      <td>INR</td>\n",
       "      <td>18053</td>\n",
       "      <td>IN</td>\n",
       "      <td>100</td>\n",
       "      <td>AS</td>\n",
       "      <td>S</td>\n",
       "    </tr>\n",
       "    <tr>\n",
       "      <th>3579</th>\n",
       "      <td>2020</td>\n",
       "      <td>MI</td>\n",
       "      <td>FT</td>\n",
       "      <td>Data Scientist</td>\n",
       "      <td>60000</td>\n",
       "      <td>GBP</td>\n",
       "      <td>76958</td>\n",
       "      <td>GB</td>\n",
       "      <td>100</td>\n",
       "      <td>GB</td>\n",
       "      <td>S</td>\n",
       "    </tr>\n",
       "    <tr>\n",
       "      <th>3577</th>\n",
       "      <td>2021</td>\n",
       "      <td>MI</td>\n",
       "      <td>FT</td>\n",
       "      <td>Computer Vision Software Engineer</td>\n",
       "      <td>81000</td>\n",
       "      <td>EUR</td>\n",
       "      <td>95746</td>\n",
       "      <td>DE</td>\n",
       "      <td>100</td>\n",
       "      <td>US</td>\n",
       "      <td>S</td>\n",
       "    </tr>\n",
       "    <tr>\n",
       "      <th>3576</th>\n",
       "      <td>2020</td>\n",
       "      <td>EN</td>\n",
       "      <td>PT</td>\n",
       "      <td>ML Engineer</td>\n",
       "      <td>14000</td>\n",
       "      <td>EUR</td>\n",
       "      <td>15966</td>\n",
       "      <td>DE</td>\n",
       "      <td>100</td>\n",
       "      <td>DE</td>\n",
       "      <td>S</td>\n",
       "    </tr>\n",
       "    <tr>\n",
       "      <th>...</th>\n",
       "      <td>...</td>\n",
       "      <td>...</td>\n",
       "      <td>...</td>\n",
       "      <td>...</td>\n",
       "      <td>...</td>\n",
       "      <td>...</td>\n",
       "      <td>...</td>\n",
       "      <td>...</td>\n",
       "      <td>...</td>\n",
       "      <td>...</td>\n",
       "      <td>...</td>\n",
       "    </tr>\n",
       "    <tr>\n",
       "      <th>3544</th>\n",
       "      <td>2021</td>\n",
       "      <td>EN</td>\n",
       "      <td>FT</td>\n",
       "      <td>Research Scientist</td>\n",
       "      <td>60000</td>\n",
       "      <td>GBP</td>\n",
       "      <td>82528</td>\n",
       "      <td>GB</td>\n",
       "      <td>50</td>\n",
       "      <td>GB</td>\n",
       "      <td>L</td>\n",
       "    </tr>\n",
       "    <tr>\n",
       "      <th>3545</th>\n",
       "      <td>2020</td>\n",
       "      <td>EN</td>\n",
       "      <td>FT</td>\n",
       "      <td>Machine Learning Engineer</td>\n",
       "      <td>250000</td>\n",
       "      <td>USD</td>\n",
       "      <td>250000</td>\n",
       "      <td>US</td>\n",
       "      <td>50</td>\n",
       "      <td>US</td>\n",
       "      <td>L</td>\n",
       "    </tr>\n",
       "    <tr>\n",
       "      <th>3550</th>\n",
       "      <td>2021</td>\n",
       "      <td>MI</td>\n",
       "      <td>FT</td>\n",
       "      <td>Data Engineer</td>\n",
       "      <td>140000</td>\n",
       "      <td>USD</td>\n",
       "      <td>140000</td>\n",
       "      <td>US</td>\n",
       "      <td>100</td>\n",
       "      <td>US</td>\n",
       "      <td>L</td>\n",
       "    </tr>\n",
       "    <tr>\n",
       "      <th>3527</th>\n",
       "      <td>2021</td>\n",
       "      <td>EN</td>\n",
       "      <td>FT</td>\n",
       "      <td>Data Scientist</td>\n",
       "      <td>13400</td>\n",
       "      <td>USD</td>\n",
       "      <td>13400</td>\n",
       "      <td>UA</td>\n",
       "      <td>100</td>\n",
       "      <td>UA</td>\n",
       "      <td>L</td>\n",
       "    </tr>\n",
       "    <tr>\n",
       "      <th>606</th>\n",
       "      <td>2022</td>\n",
       "      <td>MI</td>\n",
       "      <td>FT</td>\n",
       "      <td>AI Scientist</td>\n",
       "      <td>200000</td>\n",
       "      <td>USD</td>\n",
       "      <td>200000</td>\n",
       "      <td>IN</td>\n",
       "      <td>100</td>\n",
       "      <td>US</td>\n",
       "      <td>L</td>\n",
       "    </tr>\n",
       "  </tbody>\n",
       "</table>\n",
       "<p>4362 rows × 11 columns</p>\n",
       "</div>"
      ],
      "text/plain": [
       "      work_year experience_level employment_type  \\\n",
       "99         2021               MI              FT   \n",
       "244        2021               EN              FT   \n",
       "3579       2020               MI              FT   \n",
       "3577       2021               MI              FT   \n",
       "3576       2020               EN              PT   \n",
       "...         ...              ...             ...   \n",
       "3544       2021               EN              FT   \n",
       "3545       2020               EN              FT   \n",
       "3550       2021               MI              FT   \n",
       "3527       2021               EN              FT   \n",
       "606        2022               MI              FT   \n",
       "\n",
       "                              job_title   salary salary_currency  \\\n",
       "99    Computer Vision Software Engineer    81000             EUR   \n",
       "244                        AI Scientist  1335000             INR   \n",
       "3579                     Data Scientist    60000             GBP   \n",
       "3577  Computer Vision Software Engineer    81000             EUR   \n",
       "3576                        ML Engineer    14000             EUR   \n",
       "...                                 ...      ...             ...   \n",
       "3544                 Research Scientist    60000             GBP   \n",
       "3545          Machine Learning Engineer   250000             USD   \n",
       "3550                      Data Engineer   140000             USD   \n",
       "3527                     Data Scientist    13400             USD   \n",
       "606                        AI Scientist   200000             USD   \n",
       "\n",
       "      salary_in_usd employee_residence  remote_ratio company_location  \\\n",
       "99            95746                 DE           100               US   \n",
       "244           18053                 IN           100               AS   \n",
       "3579          76958                 GB           100               GB   \n",
       "3577          95746                 DE           100               US   \n",
       "3576          15966                 DE           100               DE   \n",
       "...             ...                ...           ...              ...   \n",
       "3544          82528                 GB            50               GB   \n",
       "3545         250000                 US            50               US   \n",
       "3550         140000                 US           100               US   \n",
       "3527          13400                 UA           100               UA   \n",
       "606          200000                 IN           100               US   \n",
       "\n",
       "     company_size  \n",
       "99              S  \n",
       "244             S  \n",
       "3579            S  \n",
       "3577            S  \n",
       "3576            S  \n",
       "...           ...  \n",
       "3544            L  \n",
       "3545            L  \n",
       "3550            L  \n",
       "3527            L  \n",
       "606             L  \n",
       "\n",
       "[4362 rows x 11 columns]"
      ]
     },
     "execution_count": 64,
     "metadata": {},
     "output_type": "execute_result"
    }
   ],
   "source": [
    "custom_order = {'S' : 0, 'M' : 1,'L' : 2,}\n",
    "sorted_data = data.sort_values(by='company_size', key=lambda x: x.map(custom_order), ascending=True)\n",
    "sorted_data"
   ]
  },
  {
   "cell_type": "markdown",
   "id": "7c8abf5b",
   "metadata": {
    "id": "7c8abf5b"
   },
   "source": [
    "**Вывод**: анализируя данные, отсортированные по размеру компании, можно увидеть, какие компании в наборе данных считаются малыми, средними или крупными. Это может быть полезным при рассмотрении структуры компаний, предлагающих вакансии."
   ]
  },
  {
   "cell_type": "markdown",
   "id": "4a82236c",
   "metadata": {
    "id": "4a82236c"
   },
   "source": [
    "**Сортировка 3**. Сортировка данных по зарплате, типу занятости и уровню опыта"
   ]
  },
  {
   "cell_type": "code",
   "execution_count": 65,
   "id": "302cc8fb",
   "metadata": {
    "colab": {
     "base_uri": "https://localhost:8080/",
     "height": 343
    },
    "id": "302cc8fb",
    "outputId": "af5acd22-b95f-47ea-f228-af7c9cc56a2e"
   },
   "outputs": [
    {
     "data": {
      "text/html": [
       "<div>\n",
       "<style scoped>\n",
       "    .dataframe tbody tr th:only-of-type {\n",
       "        vertical-align: middle;\n",
       "    }\n",
       "\n",
       "    .dataframe tbody tr th {\n",
       "        vertical-align: top;\n",
       "    }\n",
       "\n",
       "    .dataframe thead th {\n",
       "        text-align: right;\n",
       "    }\n",
       "</style>\n",
       "<table border=\"1\" class=\"dataframe\">\n",
       "  <thead>\n",
       "    <tr style=\"text-align: right;\">\n",
       "      <th></th>\n",
       "      <th>work_year</th>\n",
       "      <th>experience_level</th>\n",
       "      <th>employment_type</th>\n",
       "      <th>job_title</th>\n",
       "      <th>salary</th>\n",
       "      <th>salary_currency</th>\n",
       "      <th>salary_in_usd</th>\n",
       "      <th>employee_residence</th>\n",
       "      <th>remote_ratio</th>\n",
       "      <th>company_location</th>\n",
       "      <th>company_size</th>\n",
       "    </tr>\n",
       "  </thead>\n",
       "  <tbody>\n",
       "    <tr>\n",
       "      <th>252</th>\n",
       "      <td>2021</td>\n",
       "      <td>EX</td>\n",
       "      <td>FT</td>\n",
       "      <td>Principal Data Engineer</td>\n",
       "      <td>600000</td>\n",
       "      <td>USD</td>\n",
       "      <td>600000</td>\n",
       "      <td>US</td>\n",
       "      <td>100</td>\n",
       "      <td>US</td>\n",
       "      <td>L</td>\n",
       "    </tr>\n",
       "    <tr>\n",
       "      <th>3522</th>\n",
       "      <td>2020</td>\n",
       "      <td>MI</td>\n",
       "      <td>FT</td>\n",
       "      <td>Research Scientist</td>\n",
       "      <td>450000</td>\n",
       "      <td>USD</td>\n",
       "      <td>450000</td>\n",
       "      <td>US</td>\n",
       "      <td>0</td>\n",
       "      <td>US</td>\n",
       "      <td>M</td>\n",
       "    </tr>\n",
       "    <tr>\n",
       "      <th>33</th>\n",
       "      <td>2020</td>\n",
       "      <td>MI</td>\n",
       "      <td>FT</td>\n",
       "      <td>Research Scientist</td>\n",
       "      <td>450000</td>\n",
       "      <td>USD</td>\n",
       "      <td>450000</td>\n",
       "      <td>US</td>\n",
       "      <td>0</td>\n",
       "      <td>US</td>\n",
       "      <td>M</td>\n",
       "    </tr>\n",
       "    <tr>\n",
       "      <th>97</th>\n",
       "      <td>2021</td>\n",
       "      <td>MI</td>\n",
       "      <td>FT</td>\n",
       "      <td>Financial Data Analyst</td>\n",
       "      <td>450000</td>\n",
       "      <td>USD</td>\n",
       "      <td>450000</td>\n",
       "      <td>US</td>\n",
       "      <td>100</td>\n",
       "      <td>US</td>\n",
       "      <td>L</td>\n",
       "    </tr>\n",
       "    <tr>\n",
       "      <th>2011</th>\n",
       "      <td>2022</td>\n",
       "      <td>MI</td>\n",
       "      <td>FT</td>\n",
       "      <td>Data Analyst</td>\n",
       "      <td>350000</td>\n",
       "      <td>GBP</td>\n",
       "      <td>430967</td>\n",
       "      <td>GB</td>\n",
       "      <td>0</td>\n",
       "      <td>GB</td>\n",
       "      <td>M</td>\n",
       "    </tr>\n",
       "  </tbody>\n",
       "</table>\n",
       "</div>"
      ],
      "text/plain": [
       "      work_year experience_level employment_type                job_title  \\\n",
       "252        2021               EX              FT  Principal Data Engineer   \n",
       "3522       2020               MI              FT       Research Scientist   \n",
       "33         2020               MI              FT       Research Scientist   \n",
       "97         2021               MI              FT   Financial Data Analyst   \n",
       "2011       2022               MI              FT             Data Analyst   \n",
       "\n",
       "      salary salary_currency  salary_in_usd employee_residence  remote_ratio  \\\n",
       "252   600000             USD         600000                 US           100   \n",
       "3522  450000             USD         450000                 US             0   \n",
       "33    450000             USD         450000                 US             0   \n",
       "97    450000             USD         450000                 US           100   \n",
       "2011  350000             GBP         430967                 GB             0   \n",
       "\n",
       "     company_location company_size  \n",
       "252                US            L  \n",
       "3522               US            M  \n",
       "33                 US            M  \n",
       "97                 US            L  \n",
       "2011               GB            M  "
      ]
     },
     "execution_count": 65,
     "metadata": {},
     "output_type": "execute_result"
    }
   ],
   "source": [
    "data.sort_values(by=['salary_in_usd', 'employment_type', 'experience_level'], ascending=[False, True, False]).head()"
   ]
  },
  {
   "cell_type": "markdown",
   "id": "a3aa6bed",
   "metadata": {
    "id": "a3aa6bed"
   },
   "source": [
    "**Вывод**: отсортировала данные по убыванию зарплаты, возрастанию типа занятости и убыванию уровня опыта. Это позволяет нам лучше понять, какие позиции с высокой зарплатой доступны в различных категориях занятости и уровня опыта."
   ]
  },
  {
   "cell_type": "markdown",
   "id": "11379db6",
   "metadata": {
    "id": "11379db6"
   },
   "source": [
    "### Частотные таблицы по всем переменным"
   ]
  },
  {
   "cell_type": "code",
   "execution_count": 66,
   "id": "551f24ca",
   "metadata": {
    "colab": {
     "base_uri": "https://localhost:8080/",
     "height": 173
    },
    "id": "551f24ca",
    "outputId": "35962187-1c6a-4b9f-ff12-e0fcb10a6286"
   },
   "outputs": [
    {
     "data": {
      "text/html": [
       "<div>\n",
       "<style scoped>\n",
       "    .dataframe tbody tr th:only-of-type {\n",
       "        vertical-align: middle;\n",
       "    }\n",
       "\n",
       "    .dataframe tbody tr th {\n",
       "        vertical-align: top;\n",
       "    }\n",
       "\n",
       "    .dataframe thead th {\n",
       "        text-align: right;\n",
       "    }\n",
       "</style>\n",
       "<table border=\"1\" class=\"dataframe\">\n",
       "  <thead>\n",
       "    <tr style=\"text-align: right;\">\n",
       "      <th></th>\n",
       "      <th>Work Year</th>\n",
       "      <th>Frequency</th>\n",
       "    </tr>\n",
       "  </thead>\n",
       "  <tbody>\n",
       "    <tr>\n",
       "      <th>0</th>\n",
       "      <td>2022</td>\n",
       "      <td>1982</td>\n",
       "    </tr>\n",
       "    <tr>\n",
       "      <th>1</th>\n",
       "      <td>2023</td>\n",
       "      <td>1785</td>\n",
       "    </tr>\n",
       "    <tr>\n",
       "      <th>2</th>\n",
       "      <td>2021</td>\n",
       "      <td>447</td>\n",
       "    </tr>\n",
       "    <tr>\n",
       "      <th>3</th>\n",
       "      <td>2020</td>\n",
       "      <td>148</td>\n",
       "    </tr>\n",
       "  </tbody>\n",
       "</table>\n",
       "</div>"
      ],
      "text/plain": [
       "   Work Year  Frequency\n",
       "0       2022       1982\n",
       "1       2023       1785\n",
       "2       2021        447\n",
       "3       2020        148"
      ]
     },
     "execution_count": 66,
     "metadata": {},
     "output_type": "execute_result"
    }
   ],
   "source": [
    "work_year_freq_table = data['work_year'].value_counts().reset_index()\n",
    "work_year_freq_table.columns = ['Work Year', 'Frequency']\n",
    "work_year_freq_table"
   ]
  },
  {
   "cell_type": "markdown",
   "id": "8a62f95b",
   "metadata": {
    "id": "8a62f95b"
   },
   "source": [
    "Из частотной таблицы по переменной 'Work Year' видно, что данные о вакансиях преимущественно относятся к 2022 году (1982 записи), за ним следует 2023 год (1785 записей), что может указывать на актуальность предложений в этот период."
   ]
  },
  {
   "cell_type": "code",
   "execution_count": 67,
   "id": "48d8f77e",
   "metadata": {
    "colab": {
     "base_uri": "https://localhost:8080/",
     "height": 173
    },
    "id": "48d8f77e",
    "outputId": "5212c040-c1d0-42d7-de1a-004c578a752a"
   },
   "outputs": [
    {
     "data": {
      "text/html": [
       "<div>\n",
       "<style scoped>\n",
       "    .dataframe tbody tr th:only-of-type {\n",
       "        vertical-align: middle;\n",
       "    }\n",
       "\n",
       "    .dataframe tbody tr th {\n",
       "        vertical-align: top;\n",
       "    }\n",
       "\n",
       "    .dataframe thead th {\n",
       "        text-align: right;\n",
       "    }\n",
       "</style>\n",
       "<table border=\"1\" class=\"dataframe\">\n",
       "  <thead>\n",
       "    <tr style=\"text-align: right;\">\n",
       "      <th></th>\n",
       "      <th>Experience Level</th>\n",
       "      <th>Frequency</th>\n",
       "    </tr>\n",
       "  </thead>\n",
       "  <tbody>\n",
       "    <tr>\n",
       "      <th>0</th>\n",
       "      <td>SE</td>\n",
       "      <td>2796</td>\n",
       "    </tr>\n",
       "    <tr>\n",
       "      <th>1</th>\n",
       "      <td>MI</td>\n",
       "      <td>1018</td>\n",
       "    </tr>\n",
       "    <tr>\n",
       "      <th>2</th>\n",
       "      <td>EN</td>\n",
       "      <td>408</td>\n",
       "    </tr>\n",
       "    <tr>\n",
       "      <th>3</th>\n",
       "      <td>EX</td>\n",
       "      <td>140</td>\n",
       "    </tr>\n",
       "  </tbody>\n",
       "</table>\n",
       "</div>"
      ],
      "text/plain": [
       "  Experience Level  Frequency\n",
       "0               SE       2796\n",
       "1               MI       1018\n",
       "2               EN        408\n",
       "3               EX        140"
      ]
     },
     "execution_count": 67,
     "metadata": {},
     "output_type": "execute_result"
    }
   ],
   "source": [
    "experience_level_freq_table = data['experience_level'].value_counts().reset_index()\n",
    "experience_level_freq_table.columns = ['Experience Level', 'Frequency']\n",
    "experience_level_freq_table"
   ]
  },
  {
   "cell_type": "markdown",
   "id": "c133a3c3",
   "metadata": {
    "id": "c133a3c3"
   },
   "source": [
    "Из частотной таблицы по переменной 'Experience Level' видно, что большинство вакансий требует опыт на старшем уровне (SE - Senior), что подтверждается высокой частотой - 2796 записей. Позиции с уровнем опыта Middle (MI - Middle) также представлены, но их число меньше - 1018 записей. Уровень опыта Entry (EN - Entry) и Executive (EX - Executive) представлены в меньшем объеме - 408 и 140 записей соответственно.\n",
    "\n",
    "Это может указывать на высокий спрос на опытных специалистов. Также стоит обратить внимание на потенциальные возможности для специалистов с опытом на среднем уровне, так как позиции с таким требованием тоже востребованы, хотя и в меньшем объеме."
   ]
  },
  {
   "cell_type": "code",
   "execution_count": 68,
   "id": "9e7bc910",
   "metadata": {
    "colab": {
     "base_uri": "https://localhost:8080/",
     "height": 173
    },
    "id": "9e7bc910",
    "outputId": "8ffab2dd-2e43-4e1c-ee99-a828e70993ba"
   },
   "outputs": [
    {
     "data": {
      "text/html": [
       "<div>\n",
       "<style scoped>\n",
       "    .dataframe tbody tr th:only-of-type {\n",
       "        vertical-align: middle;\n",
       "    }\n",
       "\n",
       "    .dataframe tbody tr th {\n",
       "        vertical-align: top;\n",
       "    }\n",
       "\n",
       "    .dataframe thead th {\n",
       "        text-align: right;\n",
       "    }\n",
       "</style>\n",
       "<table border=\"1\" class=\"dataframe\">\n",
       "  <thead>\n",
       "    <tr style=\"text-align: right;\">\n",
       "      <th></th>\n",
       "      <th>Employment Type</th>\n",
       "      <th>Frequency</th>\n",
       "    </tr>\n",
       "  </thead>\n",
       "  <tbody>\n",
       "    <tr>\n",
       "      <th>0</th>\n",
       "      <td>FT</td>\n",
       "      <td>4306</td>\n",
       "    </tr>\n",
       "    <tr>\n",
       "      <th>1</th>\n",
       "      <td>PT</td>\n",
       "      <td>27</td>\n",
       "    </tr>\n",
       "    <tr>\n",
       "      <th>2</th>\n",
       "      <td>CT</td>\n",
       "      <td>15</td>\n",
       "    </tr>\n",
       "    <tr>\n",
       "      <th>3</th>\n",
       "      <td>FL</td>\n",
       "      <td>14</td>\n",
       "    </tr>\n",
       "  </tbody>\n",
       "</table>\n",
       "</div>"
      ],
      "text/plain": [
       "  Employment Type  Frequency\n",
       "0              FT       4306\n",
       "1              PT         27\n",
       "2              CT         15\n",
       "3              FL         14"
      ]
     },
     "execution_count": 68,
     "metadata": {},
     "output_type": "execute_result"
    }
   ],
   "source": [
    "employment_type_freq_table = data['employment_type'].value_counts().reset_index()\n",
    "employment_type_freq_table.columns = ['Employment Type', 'Frequency']\n",
    "employment_type_freq_table"
   ]
  },
  {
   "cell_type": "markdown",
   "id": "408c9c32",
   "metadata": {
    "id": "408c9c32"
   },
   "source": [
    "Из частотной таблицы по переменной 'Employment Type' видно, что большинство вакансий предоставляют полную занятость (FT - Full Time) с высокой частотой в 4306 записей. Меньшее количество вакансий (27) предлагает неполную занятость (PT - Part Time).\n",
    "\n",
    "Это может указывать на преобладание предложений о работе на полную ставку."
   ]
  },
  {
   "cell_type": "code",
   "execution_count": 69,
   "id": "b74bcf00",
   "metadata": {
    "colab": {
     "base_uri": "https://localhost:8080/",
     "height": 419
    },
    "id": "b74bcf00",
    "outputId": "77c4a2d4-add9-452f-f5a0-e0be705df3c2"
   },
   "outputs": [
    {
     "data": {
      "text/html": [
       "<div>\n",
       "<style scoped>\n",
       "    .dataframe tbody tr th:only-of-type {\n",
       "        vertical-align: middle;\n",
       "    }\n",
       "\n",
       "    .dataframe tbody tr th {\n",
       "        vertical-align: top;\n",
       "    }\n",
       "\n",
       "    .dataframe thead th {\n",
       "        text-align: right;\n",
       "    }\n",
       "</style>\n",
       "<table border=\"1\" class=\"dataframe\">\n",
       "  <thead>\n",
       "    <tr style=\"text-align: right;\">\n",
       "      <th></th>\n",
       "      <th>Job Title</th>\n",
       "      <th>Frequency</th>\n",
       "    </tr>\n",
       "  </thead>\n",
       "  <tbody>\n",
       "    <tr>\n",
       "      <th>0</th>\n",
       "      <td>Data Engineer</td>\n",
       "      <td>1172</td>\n",
       "    </tr>\n",
       "    <tr>\n",
       "      <th>1</th>\n",
       "      <td>Data Scientist</td>\n",
       "      <td>983</td>\n",
       "    </tr>\n",
       "    <tr>\n",
       "      <th>2</th>\n",
       "      <td>Data Analyst</td>\n",
       "      <td>709</td>\n",
       "    </tr>\n",
       "    <tr>\n",
       "      <th>3</th>\n",
       "      <td>Machine Learning Engineer</td>\n",
       "      <td>330</td>\n",
       "    </tr>\n",
       "    <tr>\n",
       "      <th>4</th>\n",
       "      <td>Data Architect</td>\n",
       "      <td>112</td>\n",
       "    </tr>\n",
       "    <tr>\n",
       "      <th>...</th>\n",
       "      <td>...</td>\n",
       "      <td>...</td>\n",
       "    </tr>\n",
       "    <tr>\n",
       "      <th>90</th>\n",
       "      <td>Marketing Data Engineer</td>\n",
       "      <td>1</td>\n",
       "    </tr>\n",
       "    <tr>\n",
       "      <th>91</th>\n",
       "      <td>Compliance Data Analyst</td>\n",
       "      <td>1</td>\n",
       "    </tr>\n",
       "    <tr>\n",
       "      <th>92</th>\n",
       "      <td>Data Science Tech Lead</td>\n",
       "      <td>1</td>\n",
       "    </tr>\n",
       "    <tr>\n",
       "      <th>93</th>\n",
       "      <td>Data Management Specialist</td>\n",
       "      <td>1</td>\n",
       "    </tr>\n",
       "    <tr>\n",
       "      <th>94</th>\n",
       "      <td>Manager Data Management</td>\n",
       "      <td>1</td>\n",
       "    </tr>\n",
       "  </tbody>\n",
       "</table>\n",
       "<p>95 rows × 2 columns</p>\n",
       "</div>"
      ],
      "text/plain": [
       "                     Job Title  Frequency\n",
       "0                Data Engineer       1172\n",
       "1               Data Scientist        983\n",
       "2                 Data Analyst        709\n",
       "3    Machine Learning Engineer        330\n",
       "4               Data Architect        112\n",
       "..                         ...        ...\n",
       "90     Marketing Data Engineer          1\n",
       "91     Compliance Data Analyst          1\n",
       "92      Data Science Tech Lead          1\n",
       "93  Data Management Specialist          1\n",
       "94     Manager Data Management          1\n",
       "\n",
       "[95 rows x 2 columns]"
      ]
     },
     "execution_count": 69,
     "metadata": {},
     "output_type": "execute_result"
    }
   ],
   "source": [
    "job_title_freq_table = data['job_title'].value_counts().reset_index()\n",
    "job_title_freq_table.columns = ['Job Title', 'Frequency']\n",
    "job_title_freq_table"
   ]
  },
  {
   "cell_type": "markdown",
   "id": "65f7d642",
   "metadata": {
    "id": "65f7d642"
   },
   "source": [
    "Из частотной таблицы по переменной 'Job Title' видно, что наиболее часто встречающимися вакансиями являются Data Engineer, Data Scientist, Data Analyst, Machine Learning Engineer и Data Architect.\n",
    "\n",
    "Эти позиции, связанные с обработкой данных, анализом и машинным обучением, представлены в высоком объеме, что отражает актуальность и востребованность специалистов в области данных."
   ]
  },
  {
   "cell_type": "code",
   "execution_count": 70,
   "id": "8338d6b6",
   "metadata": {
    "colab": {
     "base_uri": "https://localhost:8080/",
     "height": 669
    },
    "id": "8338d6b6",
    "outputId": "7fc16b4c-edc4-41b3-fdef-8be60c7369e0"
   },
   "outputs": [
    {
     "data": {
      "text/html": [
       "<div>\n",
       "<style scoped>\n",
       "    .dataframe tbody tr th:only-of-type {\n",
       "        vertical-align: middle;\n",
       "    }\n",
       "\n",
       "    .dataframe tbody tr th {\n",
       "        vertical-align: top;\n",
       "    }\n",
       "\n",
       "    .dataframe thead th {\n",
       "        text-align: right;\n",
       "    }\n",
       "</style>\n",
       "<table border=\"1\" class=\"dataframe\">\n",
       "  <thead>\n",
       "    <tr style=\"text-align: right;\">\n",
       "      <th></th>\n",
       "      <th>Salary Currency</th>\n",
       "      <th>Frequency</th>\n",
       "    </tr>\n",
       "  </thead>\n",
       "  <tbody>\n",
       "    <tr>\n",
       "      <th>0</th>\n",
       "      <td>USD</td>\n",
       "      <td>3622</td>\n",
       "    </tr>\n",
       "    <tr>\n",
       "      <th>1</th>\n",
       "      <td>EUR</td>\n",
       "      <td>331</td>\n",
       "    </tr>\n",
       "    <tr>\n",
       "      <th>2</th>\n",
       "      <td>GBP</td>\n",
       "      <td>205</td>\n",
       "    </tr>\n",
       "    <tr>\n",
       "      <th>3</th>\n",
       "      <td>INR</td>\n",
       "      <td>87</td>\n",
       "    </tr>\n",
       "    <tr>\n",
       "      <th>4</th>\n",
       "      <td>CAD</td>\n",
       "      <td>43</td>\n",
       "    </tr>\n",
       "    <tr>\n",
       "      <th>5</th>\n",
       "      <td>AUD</td>\n",
       "      <td>11</td>\n",
       "    </tr>\n",
       "    <tr>\n",
       "      <th>6</th>\n",
       "      <td>PLN</td>\n",
       "      <td>8</td>\n",
       "    </tr>\n",
       "    <tr>\n",
       "      <th>7</th>\n",
       "      <td>BRL</td>\n",
       "      <td>8</td>\n",
       "    </tr>\n",
       "    <tr>\n",
       "      <th>8</th>\n",
       "      <td>SGD</td>\n",
       "      <td>8</td>\n",
       "    </tr>\n",
       "    <tr>\n",
       "      <th>9</th>\n",
       "      <td>JPY</td>\n",
       "      <td>6</td>\n",
       "    </tr>\n",
       "    <tr>\n",
       "      <th>10</th>\n",
       "      <td>TRY</td>\n",
       "      <td>6</td>\n",
       "    </tr>\n",
       "    <tr>\n",
       "      <th>11</th>\n",
       "      <td>CHF</td>\n",
       "      <td>5</td>\n",
       "    </tr>\n",
       "    <tr>\n",
       "      <th>12</th>\n",
       "      <td>HUF</td>\n",
       "      <td>5</td>\n",
       "    </tr>\n",
       "    <tr>\n",
       "      <th>13</th>\n",
       "      <td>DKK</td>\n",
       "      <td>5</td>\n",
       "    </tr>\n",
       "    <tr>\n",
       "      <th>14</th>\n",
       "      <td>MXN</td>\n",
       "      <td>3</td>\n",
       "    </tr>\n",
       "    <tr>\n",
       "      <th>15</th>\n",
       "      <td>THB</td>\n",
       "      <td>2</td>\n",
       "    </tr>\n",
       "    <tr>\n",
       "      <th>16</th>\n",
       "      <td>CLP</td>\n",
       "      <td>2</td>\n",
       "    </tr>\n",
       "    <tr>\n",
       "      <th>17</th>\n",
       "      <td>CNY</td>\n",
       "      <td>2</td>\n",
       "    </tr>\n",
       "    <tr>\n",
       "      <th>18</th>\n",
       "      <td>ILS</td>\n",
       "      <td>1</td>\n",
       "    </tr>\n",
       "    <tr>\n",
       "      <th>19</th>\n",
       "      <td>HKD</td>\n",
       "      <td>1</td>\n",
       "    </tr>\n",
       "    <tr>\n",
       "      <th>20</th>\n",
       "      <td>CZK</td>\n",
       "      <td>1</td>\n",
       "    </tr>\n",
       "  </tbody>\n",
       "</table>\n",
       "</div>"
      ],
      "text/plain": [
       "   Salary Currency  Frequency\n",
       "0              USD       3622\n",
       "1              EUR        331\n",
       "2              GBP        205\n",
       "3              INR         87\n",
       "4              CAD         43\n",
       "5              AUD         11\n",
       "6              PLN          8\n",
       "7              BRL          8\n",
       "8              SGD          8\n",
       "9              JPY          6\n",
       "10             TRY          6\n",
       "11             CHF          5\n",
       "12             HUF          5\n",
       "13             DKK          5\n",
       "14             MXN          3\n",
       "15             THB          2\n",
       "16             CLP          2\n",
       "17             CNY          2\n",
       "18             ILS          1\n",
       "19             HKD          1\n",
       "20             CZK          1"
      ]
     },
     "execution_count": 70,
     "metadata": {},
     "output_type": "execute_result"
    }
   ],
   "source": [
    "salary_currency_freq_table = data['salary_currency'].value_counts().reset_index()\n",
    "salary_currency_freq_table.columns = ['Salary Currency', 'Frequency']\n",
    "salary_currency_freq_table"
   ]
  },
  {
   "cell_type": "markdown",
   "id": "dd70f430",
   "metadata": {
    "id": "dd70f430"
   },
   "source": [
    "Из частотной таблицы по переменной 'Salary Currency' видно, что в большинстве случаев заработная плата представлена в долларах США (USD) - 3622 записи. Другие валюты также представлены, но в меньшем объеме, например, евро (EUR) - 331 запись, фунты стерлингов (GBP) - 205 записей, индийские рупии (INR) - 87 записей, и так далее."
   ]
  },
  {
   "cell_type": "code",
   "execution_count": 71,
   "id": "6c9a4420",
   "metadata": {
    "colab": {
     "base_uri": "https://localhost:8080/",
     "height": 419
    },
    "id": "6c9a4420",
    "outputId": "f40362bd-501b-4d2d-da20-991d05780256"
   },
   "outputs": [
    {
     "data": {
      "text/html": [
       "<div>\n",
       "<style scoped>\n",
       "    .dataframe tbody tr th:only-of-type {\n",
       "        vertical-align: middle;\n",
       "    }\n",
       "\n",
       "    .dataframe tbody tr th {\n",
       "        vertical-align: top;\n",
       "    }\n",
       "\n",
       "    .dataframe thead th {\n",
       "        text-align: right;\n",
       "    }\n",
       "</style>\n",
       "<table border=\"1\" class=\"dataframe\">\n",
       "  <thead>\n",
       "    <tr style=\"text-align: right;\">\n",
       "      <th></th>\n",
       "      <th>Employee Residence</th>\n",
       "      <th>Frequency</th>\n",
       "    </tr>\n",
       "  </thead>\n",
       "  <tbody>\n",
       "    <tr>\n",
       "      <th>0</th>\n",
       "      <td>US</td>\n",
       "      <td>3336</td>\n",
       "    </tr>\n",
       "    <tr>\n",
       "      <th>1</th>\n",
       "      <td>GB</td>\n",
       "      <td>211</td>\n",
       "    </tr>\n",
       "    <tr>\n",
       "      <th>2</th>\n",
       "      <td>CA</td>\n",
       "      <td>114</td>\n",
       "    </tr>\n",
       "    <tr>\n",
       "      <th>3</th>\n",
       "      <td>IN</td>\n",
       "      <td>101</td>\n",
       "    </tr>\n",
       "    <tr>\n",
       "      <th>4</th>\n",
       "      <td>ES</td>\n",
       "      <td>95</td>\n",
       "    </tr>\n",
       "    <tr>\n",
       "      <th>...</th>\n",
       "      <td>...</td>\n",
       "      <td>...</td>\n",
       "    </tr>\n",
       "    <tr>\n",
       "      <th>73</th>\n",
       "      <td>EG</td>\n",
       "      <td>1</td>\n",
       "    </tr>\n",
       "    <tr>\n",
       "      <th>74</th>\n",
       "      <td>CR</td>\n",
       "      <td>1</td>\n",
       "    </tr>\n",
       "    <tr>\n",
       "      <th>75</th>\n",
       "      <td>MK</td>\n",
       "      <td>1</td>\n",
       "    </tr>\n",
       "    <tr>\n",
       "      <th>76</th>\n",
       "      <td>ID</td>\n",
       "      <td>1</td>\n",
       "    </tr>\n",
       "    <tr>\n",
       "      <th>77</th>\n",
       "      <td>IL</td>\n",
       "      <td>1</td>\n",
       "    </tr>\n",
       "  </tbody>\n",
       "</table>\n",
       "<p>78 rows × 2 columns</p>\n",
       "</div>"
      ],
      "text/plain": [
       "   Employee Residence  Frequency\n",
       "0                  US       3336\n",
       "1                  GB        211\n",
       "2                  CA        114\n",
       "3                  IN        101\n",
       "4                  ES         95\n",
       "..                ...        ...\n",
       "73                 EG          1\n",
       "74                 CR          1\n",
       "75                 MK          1\n",
       "76                 ID          1\n",
       "77                 IL          1\n",
       "\n",
       "[78 rows x 2 columns]"
      ]
     },
     "execution_count": 71,
     "metadata": {},
     "output_type": "execute_result"
    }
   ],
   "source": [
    "employee_residence_freq_table = data['employee_residence'].value_counts().reset_index()\n",
    "employee_residence_freq_table.columns = ['Employee Residence', 'Frequency']\n",
    "employee_residence_freq_table"
   ]
  },
  {
   "cell_type": "markdown",
   "id": "26d77a42",
   "metadata": {
    "id": "26d77a42"
   },
   "source": [
    "Из частотной таблицы по переменной 'Employee Residence' видно, что наибольшее количество вакансий предназначено для сотрудников из США."
   ]
  },
  {
   "cell_type": "code",
   "execution_count": 72,
   "id": "230e56c7",
   "metadata": {
    "colab": {
     "base_uri": "https://localhost:8080/",
     "height": 142
    },
    "id": "230e56c7",
    "outputId": "76abbbc7-d758-46c3-e489-bf9cc358c08c"
   },
   "outputs": [
    {
     "data": {
      "text/html": [
       "<div>\n",
       "<style scoped>\n",
       "    .dataframe tbody tr th:only-of-type {\n",
       "        vertical-align: middle;\n",
       "    }\n",
       "\n",
       "    .dataframe tbody tr th {\n",
       "        vertical-align: top;\n",
       "    }\n",
       "\n",
       "    .dataframe thead th {\n",
       "        text-align: right;\n",
       "    }\n",
       "</style>\n",
       "<table border=\"1\" class=\"dataframe\">\n",
       "  <thead>\n",
       "    <tr style=\"text-align: right;\">\n",
       "      <th></th>\n",
       "      <th>Remote Ratio</th>\n",
       "      <th>Frequency</th>\n",
       "    </tr>\n",
       "  </thead>\n",
       "  <tbody>\n",
       "    <tr>\n",
       "      <th>0</th>\n",
       "      <td>0</td>\n",
       "      <td>2050</td>\n",
       "    </tr>\n",
       "    <tr>\n",
       "      <th>1</th>\n",
       "      <td>100</td>\n",
       "      <td>2024</td>\n",
       "    </tr>\n",
       "    <tr>\n",
       "      <th>2</th>\n",
       "      <td>50</td>\n",
       "      <td>288</td>\n",
       "    </tr>\n",
       "  </tbody>\n",
       "</table>\n",
       "</div>"
      ],
      "text/plain": [
       "   Remote Ratio  Frequency\n",
       "0             0       2050\n",
       "1           100       2024\n",
       "2            50        288"
      ]
     },
     "execution_count": 72,
     "metadata": {},
     "output_type": "execute_result"
    }
   ],
   "source": [
    "remote_ratio_freq_table = data['remote_ratio'].value_counts().reset_index()\n",
    "remote_ratio_freq_table.columns = ['Remote Ratio', 'Frequency']\n",
    "remote_ratio_freq_table"
   ]
  },
  {
   "cell_type": "markdown",
   "id": "726da795",
   "metadata": {
    "id": "726da795"
   },
   "source": [
    "Из частотной таблицы по переменной 'Remote Ratio' видно, что в большинстве случаев сотрудникам предоставляется возможность работать удаленно.\n",
    "Эти данные могут быть важными для тех, кто активно ищет возможность работы удаленно или, наоборот, предпочитает традиционный офисный формат."
   ]
  },
  {
   "cell_type": "code",
   "execution_count": 73,
   "id": "2f24f47d",
   "metadata": {
    "colab": {
     "base_uri": "https://localhost:8080/",
     "height": 419
    },
    "id": "2f24f47d",
    "outputId": "38f11546-950c-434d-e660-49a8060304b5"
   },
   "outputs": [
    {
     "data": {
      "text/html": [
       "<div>\n",
       "<style scoped>\n",
       "    .dataframe tbody tr th:only-of-type {\n",
       "        vertical-align: middle;\n",
       "    }\n",
       "\n",
       "    .dataframe tbody tr th {\n",
       "        vertical-align: top;\n",
       "    }\n",
       "\n",
       "    .dataframe thead th {\n",
       "        text-align: right;\n",
       "    }\n",
       "</style>\n",
       "<table border=\"1\" class=\"dataframe\">\n",
       "  <thead>\n",
       "    <tr style=\"text-align: right;\">\n",
       "      <th></th>\n",
       "      <th>Company Location</th>\n",
       "      <th>Frequency</th>\n",
       "    </tr>\n",
       "  </thead>\n",
       "  <tbody>\n",
       "    <tr>\n",
       "      <th>0</th>\n",
       "      <td>US</td>\n",
       "      <td>3395</td>\n",
       "    </tr>\n",
       "    <tr>\n",
       "      <th>1</th>\n",
       "      <td>GB</td>\n",
       "      <td>219</td>\n",
       "    </tr>\n",
       "    <tr>\n",
       "      <th>2</th>\n",
       "      <td>CA</td>\n",
       "      <td>117</td>\n",
       "    </tr>\n",
       "    <tr>\n",
       "      <th>3</th>\n",
       "      <td>ES</td>\n",
       "      <td>91</td>\n",
       "    </tr>\n",
       "    <tr>\n",
       "      <th>4</th>\n",
       "      <td>DE</td>\n",
       "      <td>84</td>\n",
       "    </tr>\n",
       "    <tr>\n",
       "      <th>...</th>\n",
       "      <td>...</td>\n",
       "      <td>...</td>\n",
       "    </tr>\n",
       "    <tr>\n",
       "      <th>67</th>\n",
       "      <td>BA</td>\n",
       "      <td>1</td>\n",
       "    </tr>\n",
       "    <tr>\n",
       "      <th>68</th>\n",
       "      <td>BS</td>\n",
       "      <td>1</td>\n",
       "    </tr>\n",
       "    <tr>\n",
       "      <th>69</th>\n",
       "      <td>CR</td>\n",
       "      <td>1</td>\n",
       "    </tr>\n",
       "    <tr>\n",
       "      <th>70</th>\n",
       "      <td>MK</td>\n",
       "      <td>1</td>\n",
       "    </tr>\n",
       "    <tr>\n",
       "      <th>71</th>\n",
       "      <td>PH</td>\n",
       "      <td>1</td>\n",
       "    </tr>\n",
       "  </tbody>\n",
       "</table>\n",
       "<p>72 rows × 2 columns</p>\n",
       "</div>"
      ],
      "text/plain": [
       "   Company Location  Frequency\n",
       "0                US       3395\n",
       "1                GB        219\n",
       "2                CA        117\n",
       "3                ES         91\n",
       "4                DE         84\n",
       "..              ...        ...\n",
       "67               BA          1\n",
       "68               BS          1\n",
       "69               CR          1\n",
       "70               MK          1\n",
       "71               PH          1\n",
       "\n",
       "[72 rows x 2 columns]"
      ]
     },
     "execution_count": 73,
     "metadata": {},
     "output_type": "execute_result"
    }
   ],
   "source": [
    "company_location_freq_table = data['company_location'].value_counts().reset_index()\n",
    "company_location_freq_table.columns = ['Company Location', 'Frequency']\n",
    "company_location_freq_table"
   ]
  },
  {
   "cell_type": "markdown",
   "id": "1d38ca17",
   "metadata": {
    "id": "1d38ca17"
   },
   "source": [
    "Из частотной таблицы по переменной 'Company Location' видно, что большинство вакансий предлагают работу также в США."
   ]
  },
  {
   "cell_type": "code",
   "execution_count": 74,
   "id": "1b8136f5",
   "metadata": {
    "colab": {
     "base_uri": "https://localhost:8080/",
     "height": 142
    },
    "id": "1b8136f5",
    "outputId": "324e6672-a514-4ee6-d99c-9f6c38c0f53c"
   },
   "outputs": [
    {
     "data": {
      "text/html": [
       "<div>\n",
       "<style scoped>\n",
       "    .dataframe tbody tr th:only-of-type {\n",
       "        vertical-align: middle;\n",
       "    }\n",
       "\n",
       "    .dataframe tbody tr th {\n",
       "        vertical-align: top;\n",
       "    }\n",
       "\n",
       "    .dataframe thead th {\n",
       "        text-align: right;\n",
       "    }\n",
       "</style>\n",
       "<table border=\"1\" class=\"dataframe\">\n",
       "  <thead>\n",
       "    <tr style=\"text-align: right;\">\n",
       "      <th></th>\n",
       "      <th>Company Size</th>\n",
       "      <th>Frequency</th>\n",
       "    </tr>\n",
       "  </thead>\n",
       "  <tbody>\n",
       "    <tr>\n",
       "      <th>0</th>\n",
       "      <td>M</td>\n",
       "      <td>3479</td>\n",
       "    </tr>\n",
       "    <tr>\n",
       "      <th>1</th>\n",
       "      <td>L</td>\n",
       "      <td>652</td>\n",
       "    </tr>\n",
       "    <tr>\n",
       "      <th>2</th>\n",
       "      <td>S</td>\n",
       "      <td>231</td>\n",
       "    </tr>\n",
       "  </tbody>\n",
       "</table>\n",
       "</div>"
      ],
      "text/plain": [
       "  Company Size  Frequency\n",
       "0            M       3479\n",
       "1            L        652\n",
       "2            S        231"
      ]
     },
     "execution_count": 74,
     "metadata": {},
     "output_type": "execute_result"
    }
   ],
   "source": [
    "company_size_freq_table = data['company_size'].value_counts().reset_index()\n",
    "company_size_freq_table.columns = ['Company Size', 'Frequency']\n",
    "company_size_freq_table"
   ]
  },
  {
   "cell_type": "markdown",
   "id": "da85da9e",
   "metadata": {
    "id": "da85da9e"
   },
   "source": [
    "Из частотной таблицы по переменной 'Company Size' видно, что большинство вакансий предлагают работу в средних и крупных компаниях."
   ]
  },
  {
   "cell_type": "markdown",
   "id": "5a35dc51",
   "metadata": {
    "id": "5a35dc51"
   },
   "source": [
    "### Частотные таблицы по ольтфильтрованным данным"
   ]
  },
  {
   "cell_type": "markdown",
   "id": "6f61d0f7",
   "metadata": {
    "id": "6f61d0f7"
   },
   "source": [
    "Рассмотрю вакансии с опытом работы на уровне Senior (SE), в стране США (US), с предоставлением возможности удаленной работы. Создам соответствующий фильтр и построю частотные таблицы"
   ]
  },
  {
   "cell_type": "code",
   "execution_count": 75,
   "id": "5701e7ed",
   "metadata": {
    "colab": {
     "base_uri": "https://localhost:8080/"
    },
    "id": "5701e7ed",
    "outputId": "ba2dcf8c-b4ed-443d-ae8a-51c67416a4de"
   },
   "outputs": [
    {
     "name": "stdout",
     "output_type": "stream",
     "text": [
      "Частотная таблица по типу занятости:\n",
      "  Employment Type  Frequency\n",
      "0              FT       1162\n",
      "1              CT          3\n",
      "\n",
      "Частотная таблица по месту работы:\n",
      "  Company Location  Frequency\n",
      "0               US       1160\n",
      "1               CA          2\n",
      "2               FR          2\n",
      "3               AU          1\n"
     ]
    }
   ],
   "source": [
    "# Фильтрация данных\n",
    "filtered_data = data[(data['experience_level'] == 'SE') & (data['employee_residence'] == 'US') & (data['remote_ratio'] == 100)]\n",
    "\n",
    "# Частотная таблица по типу занятости\n",
    "employment_type_freq = filtered_data['employment_type'].value_counts().reset_index()\n",
    "employment_type_freq.columns = ['Employment Type', 'Frequency']\n",
    "\n",
    "# Частотная таблица по месту работы\n",
    "company_location_freq = filtered_data['company_location'].value_counts().reset_index()\n",
    "company_location_freq.columns = ['Company Location', 'Frequency']\n",
    "\n",
    "print(\"Частотная таблица по типу занятости:\")\n",
    "print(employment_type_freq)\n",
    "\n",
    "print(\"\\nЧастотная таблица по месту работы:\")\n",
    "print(company_location_freq)\n"
   ]
  },
  {
   "cell_type": "markdown",
   "id": "1ea542d3",
   "metadata": {
    "id": "1ea542d3"
   },
   "source": [
    "Из результатов анализа отфильтрованных данных видно, что вакансии с опытом работы на уровне Senior (SE) в США (US) и предоставлением 100% удаленной работы в основном предлагают полную занятость (FT) и чаще расположены в США, что может быть важным для тех, кто ищет конкретные условия трудоустройства с указанными фильтрами."
   ]
  },
  {
   "cell_type": "markdown",
   "id": "c1c352a2",
   "metadata": {
    "id": "c1c352a2"
   },
   "source": [
    "Рассмотрю фильтрацию для других столбцов. Например, посмотрю на вакансии в крупных компаниях (Company Size = 'L') с высокой зарплатой (Salary in USD > 100000) без возможности удаленной работы (Remote Ratio == 0)."
   ]
  },
  {
   "cell_type": "code",
   "execution_count": 76,
   "id": "a24c6502",
   "metadata": {
    "colab": {
     "base_uri": "https://localhost:8080/"
    },
    "id": "a24c6502",
    "outputId": "9b4ceb82-01fc-4df2-948c-3ca8975e9097"
   },
   "outputs": [
    {
     "name": "stdout",
     "output_type": "stream",
     "text": [
      "Частотная таблица по должностям (Large, High Salary, Remote == 0%):\n",
      "                             Job Title  Frequency\n",
      "0                       Data Scientist         31\n",
      "1                    Applied Scientist         29\n",
      "2                        Data Engineer         21\n",
      "3                         Data Analyst          4\n",
      "4            Machine Learning Engineer          4\n",
      "5             Director of Data Science          4\n",
      "6                 Data Science Manager          3\n",
      "7               Data Analytics Manager          3\n",
      "8             Principal Data Scientist          2\n",
      "9               Applied Data Scientist          2\n",
      "10                  Lead Data Engineer          2\n",
      "11                 Lead Data Scientist          2\n",
      "12                        AI Scientist          1\n",
      "13            Deep Learning Researcher          1\n",
      "14  Applied Machine Learning Scientist          1\n",
      "15            Data Engineering Manager          1\n",
      "\n",
      "Частотная таблица по месту работы (Large, High Salary, Remote == 0%):\n",
      "  Company Location  Frequency\n",
      "0               US         99\n",
      "1               DE          3\n",
      "2               CH          2\n",
      "3               GB          2\n",
      "4               AE          2\n",
      "5               IL          1\n",
      "6               RU          1\n",
      "7               NL          1\n"
     ]
    }
   ],
   "source": [
    "# Фильтрация данных\n",
    "filtered_data_large_no_remote_high_salary = data[(data['company_size'] == 'L') & (data['salary_in_usd'] > 100000) & (data['remote_ratio'] == 0)]\n",
    "\n",
    "# Частотная таблица по должностям\n",
    "job_title_freq_large_no_remote_high_salary = filtered_data_large_no_remote_high_salary['job_title'].value_counts().reset_index()\n",
    "job_title_freq_large_no_remote_high_salary.columns = ['Job Title', 'Frequency']\n",
    "\n",
    "# Частотная таблица по месту работы\n",
    "company_location_freq_large_no_remote_high_salary = filtered_data_large_no_remote_high_salary['company_location'].value_counts().reset_index()\n",
    "company_location_freq_large_no_remote_high_salary.columns = ['Company Location', 'Frequency']\n",
    "\n",
    "# Вывод результатов\n",
    "print(\"Частотная таблица по должностям (Large, High Salary, Remote == 0%):\")\n",
    "print(job_title_freq_large_no_remote_high_salary)\n",
    "\n",
    "print(\"\\nЧастотная таблица по месту работы (Large, High Salary, Remote == 0%):\")\n",
    "print(company_location_freq_large_no_remote_high_salary)\n"
   ]
  },
  {
   "cell_type": "markdown",
   "id": "035e3d91",
   "metadata": {
    "id": "035e3d91"
   },
   "source": [
    "Из результатов анализа отфильтрованных данных (Large, High Salary, Remote == 0%) видно, что вакансии в крупных компаниях с высокой зарплатой и без возможности удаленной работы в основном представлены позициями, такими как Data Scientist и Applied Scientist, и в большей части находятся в США. Это может быть важной информацией для кандидатов, ищущих высокооплачиваемые, традиционного формата работы вакансии в крупных компаниях."
   ]
  },
  {
   "cell_type": "markdown",
   "id": "a786cb3b",
   "metadata": {
    "id": "a786cb3b"
   },
   "source": [
    "### Создание переменных"
   ]
  },
  {
   "cell_type": "markdown",
   "id": "353990f7",
   "metadata": {
    "id": "353990f7"
   },
   "source": [
    "1. Cоздам свою собственную переменную на основе зарплаты в USD\n",
    "Предположим, я хочу создать переменную \"Income_Category\", которая будет иметь две категории: \"Высокий доход\" для зарплаты выше или равной 100000 долларов и \"Низкий доход\" для зарплаты ниже 100000 долларов."
   ]
  },
  {
   "cell_type": "code",
   "execution_count": 77,
   "id": "769196dd",
   "metadata": {
    "colab": {
     "base_uri": "https://localhost:8080/",
     "height": 394
    },
    "id": "769196dd",
    "outputId": "fe9aaf20-9343-4752-c9a0-2ad6c599d4e6"
   },
   "outputs": [
    {
     "name": "stdout",
     "output_type": "stream",
     "text": [
      "Частотная таблица по переменной 'Income_Category':\n",
      "  Income Category  Frequency\n",
      "0     High Income       3084\n",
      "1      Low Income       1278\n"
     ]
    },
    {
     "data": {
      "text/html": [
       "<div>\n",
       "<style scoped>\n",
       "    .dataframe tbody tr th:only-of-type {\n",
       "        vertical-align: middle;\n",
       "    }\n",
       "\n",
       "    .dataframe tbody tr th {\n",
       "        vertical-align: top;\n",
       "    }\n",
       "\n",
       "    .dataframe thead th {\n",
       "        text-align: right;\n",
       "    }\n",
       "</style>\n",
       "<table border=\"1\" class=\"dataframe\">\n",
       "  <thead>\n",
       "    <tr style=\"text-align: right;\">\n",
       "      <th></th>\n",
       "      <th>work_year</th>\n",
       "      <th>experience_level</th>\n",
       "      <th>employment_type</th>\n",
       "      <th>job_title</th>\n",
       "      <th>salary</th>\n",
       "      <th>salary_currency</th>\n",
       "      <th>salary_in_usd</th>\n",
       "      <th>employee_residence</th>\n",
       "      <th>remote_ratio</th>\n",
       "      <th>company_location</th>\n",
       "      <th>company_size</th>\n",
       "      <th>Income_Category</th>\n",
       "    </tr>\n",
       "  </thead>\n",
       "  <tbody>\n",
       "    <tr>\n",
       "      <th>0</th>\n",
       "      <td>2023</td>\n",
       "      <td>SE</td>\n",
       "      <td>FT</td>\n",
       "      <td>Principal Data Scientist</td>\n",
       "      <td>80000</td>\n",
       "      <td>EUR</td>\n",
       "      <td>85847</td>\n",
       "      <td>ES</td>\n",
       "      <td>100</td>\n",
       "      <td>ES</td>\n",
       "      <td>L</td>\n",
       "      <td>Low Income</td>\n",
       "    </tr>\n",
       "    <tr>\n",
       "      <th>1</th>\n",
       "      <td>2023</td>\n",
       "      <td>MI</td>\n",
       "      <td>CT</td>\n",
       "      <td>ML Engineer</td>\n",
       "      <td>30000</td>\n",
       "      <td>USD</td>\n",
       "      <td>30000</td>\n",
       "      <td>US</td>\n",
       "      <td>100</td>\n",
       "      <td>US</td>\n",
       "      <td>S</td>\n",
       "      <td>Low Income</td>\n",
       "    </tr>\n",
       "    <tr>\n",
       "      <th>2</th>\n",
       "      <td>2023</td>\n",
       "      <td>MI</td>\n",
       "      <td>CT</td>\n",
       "      <td>ML Engineer</td>\n",
       "      <td>25500</td>\n",
       "      <td>USD</td>\n",
       "      <td>25500</td>\n",
       "      <td>US</td>\n",
       "      <td>100</td>\n",
       "      <td>US</td>\n",
       "      <td>S</td>\n",
       "      <td>Low Income</td>\n",
       "    </tr>\n",
       "    <tr>\n",
       "      <th>3</th>\n",
       "      <td>2023</td>\n",
       "      <td>SE</td>\n",
       "      <td>FT</td>\n",
       "      <td>Data Scientist</td>\n",
       "      <td>175000</td>\n",
       "      <td>USD</td>\n",
       "      <td>175000</td>\n",
       "      <td>CA</td>\n",
       "      <td>100</td>\n",
       "      <td>CA</td>\n",
       "      <td>M</td>\n",
       "      <td>High Income</td>\n",
       "    </tr>\n",
       "    <tr>\n",
       "      <th>4</th>\n",
       "      <td>2023</td>\n",
       "      <td>SE</td>\n",
       "      <td>FT</td>\n",
       "      <td>Data Scientist</td>\n",
       "      <td>120000</td>\n",
       "      <td>USD</td>\n",
       "      <td>120000</td>\n",
       "      <td>CA</td>\n",
       "      <td>100</td>\n",
       "      <td>CA</td>\n",
       "      <td>M</td>\n",
       "      <td>High Income</td>\n",
       "    </tr>\n",
       "  </tbody>\n",
       "</table>\n",
       "</div>"
      ],
      "text/plain": [
       "   work_year experience_level employment_type                 job_title  \\\n",
       "0       2023               SE              FT  Principal Data Scientist   \n",
       "1       2023               MI              CT               ML Engineer   \n",
       "2       2023               MI              CT               ML Engineer   \n",
       "3       2023               SE              FT            Data Scientist   \n",
       "4       2023               SE              FT            Data Scientist   \n",
       "\n",
       "   salary salary_currency  salary_in_usd employee_residence  remote_ratio  \\\n",
       "0   80000             EUR          85847                 ES           100   \n",
       "1   30000             USD          30000                 US           100   \n",
       "2   25500             USD          25500                 US           100   \n",
       "3  175000             USD         175000                 CA           100   \n",
       "4  120000             USD         120000                 CA           100   \n",
       "\n",
       "  company_location company_size Income_Category  \n",
       "0               ES            L      Low Income  \n",
       "1               US            S      Low Income  \n",
       "2               US            S      Low Income  \n",
       "3               CA            M     High Income  \n",
       "4               CA            M     High Income  "
      ]
     },
     "execution_count": 77,
     "metadata": {},
     "output_type": "execute_result"
    }
   ],
   "source": [
    "data['Income_Category'] = data['salary_in_usd'].apply(lambda x: 'High Income' if x >= 100000 else 'Low Income')\n",
    "\n",
    "# Частотная таблица по новой переменной\n",
    "income_category_freq = data['Income_Category'].value_counts().reset_index()\n",
    "income_category_freq.columns = ['Income Category', 'Frequency']\n",
    "\n",
    "print(\"Частотная таблица по переменной 'Income_Category':\")\n",
    "print(income_category_freq)\n",
    "data.head()"
   ]
  },
  {
   "cell_type": "markdown",
   "id": "bb73d31c",
   "metadata": {
    "id": "bb73d31c"
   },
   "source": [
    "Из результатов анализа созданной переменной 'Income_Category' видно, что данные разделены на две категории: \"High Income\" и \"Low Income\" на основе условия дохода выше или равного $100000. Это может быть полезным для дополнительного анализа и понимания распределения доходов в наборе данных."
   ]
  },
  {
   "cell_type": "markdown",
   "id": "6a731e3e",
   "metadata": {
    "id": "6a731e3e"
   },
   "source": [
    "2. Создам переменную \"Remote_Category\" на основе столбца \"Remote Ratio\". Разделю вакансии на 3 категории: \"Удаленная работа\" (Remote), \"Работа из офиса\" (Office) и \"Гибридная работа\" (Hybrid)."
   ]
  },
  {
   "cell_type": "code",
   "execution_count": 78,
   "id": "215edd5f",
   "metadata": {
    "colab": {
     "base_uri": "https://localhost:8080/",
     "height": 411
    },
    "id": "215edd5f",
    "outputId": "6b1803a1-1c60-4699-cd9b-4f1a959b0064"
   },
   "outputs": [
    {
     "name": "stdout",
     "output_type": "stream",
     "text": [
      "Частотная таблица по переменной 'Remote_Category' с учетом гибридной категории:\n",
      "  Remote Category  Frequency\n",
      "0          Office       2050\n",
      "1          Remote       2024\n",
      "2          Hybrid        288\n"
     ]
    },
    {
     "data": {
      "text/html": [
       "<div>\n",
       "<style scoped>\n",
       "    .dataframe tbody tr th:only-of-type {\n",
       "        vertical-align: middle;\n",
       "    }\n",
       "\n",
       "    .dataframe tbody tr th {\n",
       "        vertical-align: top;\n",
       "    }\n",
       "\n",
       "    .dataframe thead th {\n",
       "        text-align: right;\n",
       "    }\n",
       "</style>\n",
       "<table border=\"1\" class=\"dataframe\">\n",
       "  <thead>\n",
       "    <tr style=\"text-align: right;\">\n",
       "      <th></th>\n",
       "      <th>work_year</th>\n",
       "      <th>experience_level</th>\n",
       "      <th>employment_type</th>\n",
       "      <th>job_title</th>\n",
       "      <th>salary</th>\n",
       "      <th>salary_currency</th>\n",
       "      <th>salary_in_usd</th>\n",
       "      <th>employee_residence</th>\n",
       "      <th>remote_ratio</th>\n",
       "      <th>company_location</th>\n",
       "      <th>company_size</th>\n",
       "      <th>Income_Category</th>\n",
       "      <th>Remote_Category</th>\n",
       "    </tr>\n",
       "  </thead>\n",
       "  <tbody>\n",
       "    <tr>\n",
       "      <th>0</th>\n",
       "      <td>2023</td>\n",
       "      <td>SE</td>\n",
       "      <td>FT</td>\n",
       "      <td>Principal Data Scientist</td>\n",
       "      <td>80000</td>\n",
       "      <td>EUR</td>\n",
       "      <td>85847</td>\n",
       "      <td>ES</td>\n",
       "      <td>100</td>\n",
       "      <td>ES</td>\n",
       "      <td>L</td>\n",
       "      <td>Low Income</td>\n",
       "      <td>Remote</td>\n",
       "    </tr>\n",
       "    <tr>\n",
       "      <th>1</th>\n",
       "      <td>2023</td>\n",
       "      <td>MI</td>\n",
       "      <td>CT</td>\n",
       "      <td>ML Engineer</td>\n",
       "      <td>30000</td>\n",
       "      <td>USD</td>\n",
       "      <td>30000</td>\n",
       "      <td>US</td>\n",
       "      <td>100</td>\n",
       "      <td>US</td>\n",
       "      <td>S</td>\n",
       "      <td>Low Income</td>\n",
       "      <td>Remote</td>\n",
       "    </tr>\n",
       "    <tr>\n",
       "      <th>2</th>\n",
       "      <td>2023</td>\n",
       "      <td>MI</td>\n",
       "      <td>CT</td>\n",
       "      <td>ML Engineer</td>\n",
       "      <td>25500</td>\n",
       "      <td>USD</td>\n",
       "      <td>25500</td>\n",
       "      <td>US</td>\n",
       "      <td>100</td>\n",
       "      <td>US</td>\n",
       "      <td>S</td>\n",
       "      <td>Low Income</td>\n",
       "      <td>Remote</td>\n",
       "    </tr>\n",
       "    <tr>\n",
       "      <th>3</th>\n",
       "      <td>2023</td>\n",
       "      <td>SE</td>\n",
       "      <td>FT</td>\n",
       "      <td>Data Scientist</td>\n",
       "      <td>175000</td>\n",
       "      <td>USD</td>\n",
       "      <td>175000</td>\n",
       "      <td>CA</td>\n",
       "      <td>100</td>\n",
       "      <td>CA</td>\n",
       "      <td>M</td>\n",
       "      <td>High Income</td>\n",
       "      <td>Remote</td>\n",
       "    </tr>\n",
       "    <tr>\n",
       "      <th>4</th>\n",
       "      <td>2023</td>\n",
       "      <td>SE</td>\n",
       "      <td>FT</td>\n",
       "      <td>Data Scientist</td>\n",
       "      <td>120000</td>\n",
       "      <td>USD</td>\n",
       "      <td>120000</td>\n",
       "      <td>CA</td>\n",
       "      <td>100</td>\n",
       "      <td>CA</td>\n",
       "      <td>M</td>\n",
       "      <td>High Income</td>\n",
       "      <td>Remote</td>\n",
       "    </tr>\n",
       "  </tbody>\n",
       "</table>\n",
       "</div>"
      ],
      "text/plain": [
       "   work_year experience_level employment_type                 job_title  \\\n",
       "0       2023               SE              FT  Principal Data Scientist   \n",
       "1       2023               MI              CT               ML Engineer   \n",
       "2       2023               MI              CT               ML Engineer   \n",
       "3       2023               SE              FT            Data Scientist   \n",
       "4       2023               SE              FT            Data Scientist   \n",
       "\n",
       "   salary salary_currency  salary_in_usd employee_residence  remote_ratio  \\\n",
       "0   80000             EUR          85847                 ES           100   \n",
       "1   30000             USD          30000                 US           100   \n",
       "2   25500             USD          25500                 US           100   \n",
       "3  175000             USD         175000                 CA           100   \n",
       "4  120000             USD         120000                 CA           100   \n",
       "\n",
       "  company_location company_size Income_Category Remote_Category  \n",
       "0               ES            L      Low Income          Remote  \n",
       "1               US            S      Low Income          Remote  \n",
       "2               US            S      Low Income          Remote  \n",
       "3               CA            M     High Income          Remote  \n",
       "4               CA            M     High Income          Remote  "
      ]
     },
     "execution_count": 78,
     "metadata": {},
     "output_type": "execute_result"
    }
   ],
   "source": [
    "data['Remote_Category'] = data['remote_ratio'].apply(lambda x: 'Remote' if x > 0 and x != 50 else 'Hybrid' if x == 50 else 'Office')\n",
    "\n",
    "# Частотная таблица по новой переменной\n",
    "remote_category_freq_updated = data['Remote_Category'].value_counts().reset_index()\n",
    "remote_category_freq_updated.columns = ['Remote Category', 'Frequency']\n",
    "\n",
    "print(\"Частотная таблица по переменной 'Remote_Category' с учетом гибридной категории:\")\n",
    "print(remote_category_freq_updated)\n",
    "data.head()"
   ]
  },
  {
   "cell_type": "markdown",
   "id": "7767c03f",
   "metadata": {
    "id": "7767c03f"
   },
   "source": [
    "Теперь даныне разделены на три категории: \"Remote\", \"Hybrid\" и \"Office\" в зависимости от каегории формата работы. Категория формата работы делится на удалённый (100), гибридный (50) или офисный (0). Это может быть полезным для дополнительного анализа и лучшего понимания различий в предложениях о работе в зависимости от удобства конкретного графика."
   ]
  },
  {
   "cell_type": "markdown",
   "id": "12f1f337",
   "metadata": {
    "id": "12f1f337"
   },
   "source": [
    "## Расчет мер центральной тенденции"
   ]
  },
  {
   "cell_type": "markdown",
   "id": "db3d66c1",
   "metadata": {
    "id": "db3d66c1"
   },
   "source": [
    "### МЦТ"
   ]
  },
  {
   "cell_type": "markdown",
   "id": "bb46b44b",
   "metadata": {
    "id": "bb46b44b"
   },
   "source": [
    "Рассчитаю меры центральной тенденции для созданной переменной \"Remote_Category\". Для категориальной переменной использую моду, так как она имеет ограниченное количество значений."
   ]
  },
  {
   "cell_type": "code",
   "execution_count": 79,
   "id": "24ab468c",
   "metadata": {
    "colab": {
     "base_uri": "https://localhost:8080/"
    },
    "id": "24ab468c",
    "outputId": "0a867b60-43b7-4010-cab0-e3c9c9f788f1"
   },
   "outputs": [
    {
     "name": "stdout",
     "output_type": "stream",
     "text": [
      "Мода для переменной 'Remote_Category': 0    Office\n",
      "Name: Remote_Category, dtype: object\n"
     ]
    }
   ],
   "source": [
    "from statistics import mode\n",
    "\n",
    "# Расчет моды для \"Remote_Category\"\n",
    "remote_category_mode = data['Remote_Category'].mode()\n",
    "print(f\"Мода для переменной 'Remote_Category': {remote_category_mode}\")"
   ]
  },
  {
   "cell_type": "markdown",
   "id": "0c5993e8",
   "metadata": {
    "id": "0c5993e8"
   },
   "source": [
    "Для переменной \"Remote_Category\" мода указывает на категорию Office с наибольшей частотой в распределении категорий формата работы."
   ]
  },
  {
   "cell_type": "code",
   "execution_count": 80,
   "id": "ff6589b2",
   "metadata": {
    "colab": {
     "base_uri": "https://localhost:8080/"
    },
    "id": "ff6589b2",
    "outputId": "70b9302b-e142-4fe0-d991-42bc09b380b7",
    "scrolled": true
   },
   "outputs": [
    {
     "name": "stdout",
     "output_type": "stream",
     "text": [
      "Медиана для года работы (work_year): 2022.0\n",
      "Медиана зарплаты в USD (salary_in_usd): 130000.0\n",
      "Среднее зарплаты в USD (salary_in_usd): 134053.55823016964\n"
     ]
    }
   ],
   "source": [
    "# Числовые переменные\n",
    "work_year_median = data['work_year'].median()\n",
    "salary_in_usd_median = data['salary_in_usd'].median()\n",
    "salary_in_usd_mean = data['salary_in_usd'].mean()\n",
    "\n",
    "print(f\"Медиана для года работы (work_year): {work_year_median}\")\n",
    "print(f\"Медиана зарплаты в USD (salary_in_usd): {salary_in_usd_median}\")\n",
    "print(f\"Среднее зарплаты в USD (salary_in_usd): {salary_in_usd_mean}\")"
   ]
  },
  {
   "cell_type": "markdown",
   "id": "f7d0fba9",
   "metadata": {
    "id": "f7d0fba9"
   },
   "source": [
    "Медианный год работы в наборе данных – 2022\n",
    "\n",
    "Медиана зарплаты в USD, которая показывает значение, при котором 50% данных находится выше, а 50% - ниже – 130000$. Распределение зарплаты указано графиком ниже.\n",
    "\n",
    "Среднее зарплаты в USD – 134053.55823016964$"
   ]
  },
  {
   "cell_type": "code",
   "execution_count": 81,
   "id": "12d868d2",
   "metadata": {
    "colab": {
     "base_uri": "https://localhost:8080/",
     "height": 573
    },
    "id": "12d868d2",
    "outputId": "448773b5-987e-43fe-a953-307785872705"
   },
   "outputs": [
    {
     "data": {
      "image/png": "[encoded data removed]",
      "text/plain": [
       "<Figure size 1000x600 with 1 Axes>"
      ]
     },
     "metadata": {},
     "output_type": "display_data"
    }
   ],
   "source": [
    "plt.figure(figsize=(10, 6))\n",
    "sns.histplot(data['salary_in_usd'], bins = 20, color = '#DDA0DD')\n",
    "plt.title('Гистограмма распределения зарплат в долларах', fontsize = 18)\n",
    "plt.xlabel('Зарплата в долларах', fontsize = 13)\n",
    "plt.ylabel('Частота', fontsize = 13)\n",
    "plt.show()"
   ]
  },
  {
   "cell_type": "code",
   "execution_count": 82,
   "id": "bc4c96f8",
   "metadata": {
    "colab": {
     "base_uri": "https://localhost:8080/"
    },
    "id": "bc4c96f8",
    "outputId": "1e023d93-4b23-4f0b-dd54-89f9e27f4176"
   },
   "outputs": [
    {
     "name": "stdout",
     "output_type": "stream",
     "text": [
      "Мода уровня опыта (experience_level): SE\n",
      "Мода типа занятости (employment_type): FT\n",
      "Мода места проживания (employee_residence): US\n",
      "Мода места работы (company_location): US\n",
      "Мода размера компании (company_size): M\n",
      "Мода категории дохода (Income_Category): High Income\n",
      "Мода валюты зарплаты (salary_currency): USD\n"
     ]
    }
   ],
   "source": [
    "# Категориальные переменные\n",
    "experience_level_mode = mode(data['experience_level'])\n",
    "employment_type_mode = mode(data['employment_type'])\n",
    "employee_residence_mode = mode(data['employee_residence'])\n",
    "company_location_mode = mode(data['company_location'])\n",
    "company_size_mode = mode(data['company_size'])\n",
    "income_category_mode = mode(data['Income_Category'])\n",
    "salary_currency_mode = mode(data['salary_currency'])\n",
    "\n",
    "print(f\"Мода уровня опыта (experience_level): {experience_level_mode}\")\n",
    "print(f\"Мода типа занятости (employment_type): {employment_type_mode}\")\n",
    "print(f\"Мода места проживания (employee_residence): {employee_residence_mode}\")\n",
    "print(f\"Мода места работы (company_location): {company_location_mode}\")\n",
    "print(f\"Мода размера компании (company_size): {company_size_mode}\")\n",
    "print(f\"Мода категории дохода (Income_Category): {income_category_mode}\")\n",
    "print(f\"Мода валюты зарплаты (salary_currency): {salary_currency_mode}\")"
   ]
  },
  {
   "cell_type": "markdown",
   "id": "75a4b4c1",
   "metadata": {
    "id": "75a4b4c1"
   },
   "source": [
    "experience_level (Уровень опыта): Мода \"SE\" указывает на то, что в данном наборе данных наиболее часто встречаются вакансии с опытом работы на уровне Senior (SE).\n",
    "\n",
    "employment_type (Тип занятости): Мода \"FT\" говорит о том, что наиболее распространенными являются вакансии с полной занятостью (FT).\n",
    "\n",
    "employee_residence (Место проживания сотрудника): Мода \"US\" указывает на то, что большинство вакансий предназначено для кандидатов, проживающих в США.\n",
    "\n",
    "company_location (Место работы компании): Мода \"US\" означает, что наиболее часто встречаются вакансии в компаниях, расположенных в США.\n",
    "\n",
    "company_size (Размер компании): Мода \"M\" указывает на то, что в данном наборе данных наиболее распространены вакансии в средних компаниях.\n",
    "\n",
    "Income_Category (Категория дохода): Мода \"High Income\" говорит о том, что большинство вакансий связаны с категорией высокого дохода."
   ]
  },
  {
   "cell_type": "markdown",
   "id": "b88be694",
   "metadata": {
    "id": "b88be694"
   },
   "source": [
    "## Работа с выбросами"
   ]
  },
  {
   "cell_type": "markdown",
   "id": "e48888cf",
   "metadata": {
    "id": "e48888cf"
   },
   "source": [
    "Построю \"ящики с усами\" для числовых переменных, чтобы посмотреть есть ли выбросы, визуально."
   ]
  },
  {
   "cell_type": "code",
   "execution_count": 83,
   "id": "746deb93",
   "metadata": {
    "colab": {
     "base_uri": "https://localhost:8080/",
     "height": 1000
    },
    "id": "746deb93",
    "outputId": "2a0b27f6-fe9a-4167-fb2e-459b3e8c274c"
   },
   "outputs": [
    {
     "data": {
      "image/png": "[encoded data removed]",
      "text/plain": [
       "<Figure size 1000x600 with 1 Axes>"
      ]
     },
     "metadata": {},
     "output_type": "display_data"
    },
    {
     "data": {
      "image/png": "[encoded data removed]",
      "text/plain": [
       "<Figure size 1000x600 with 1 Axes>"
      ]
     },
     "metadata": {},
     "output_type": "display_data"
    },
    {
     "data": {
      "image/png": "[encoded data removed]",
      "text/plain": [
       "<Figure size 1000x600 with 1 Axes>"
      ]
     },
     "metadata": {},
     "output_type": "display_data"
    }
   ],
   "source": [
    "sns.set(style=\"whitegrid\")\n",
    "\n",
    "# Ящик с усами для \"salary_in_usd\"\n",
    "plt.figure(figsize=(10, 6))\n",
    "sns.boxplot(x='salary_in_usd', data=data, color='skyblue')\n",
    "plt.title('Ящик с усами для \"salary_in_usd\"', fontsize=18)\n",
    "plt.xlabel('Зарплата в USD',fontsize=13)\n",
    "plt.ylabel('salary_in_usd',fontsize=13)\n",
    "\n",
    "# Ящик с усами для \"salary\"\n",
    "plt.figure(figsize=(10, 6))\n",
    "sns.boxplot(x='salary', data=data, color='lightcoral')\n",
    "plt.title('Ящик с усами для \"salary\"', fontsize=18)\n",
    "plt.xlabel('Зарплата',fontsize=13)\n",
    "plt.ylabel('salary',fontsize=13)\n",
    "\n",
    "# Ящик с усами для \"work_year\"\n",
    "plt.figure(figsize=(10, 6))\n",
    "sns.boxplot(x='work_year', data=data, color='lightgreen')\n",
    "plt.title('Ящик с усами для \"work_year\"', fontsize=18)\n",
    "plt.xlabel('Год работы',fontsize=13)\n",
    "plt.ylabel('work_year',fontsize=13)\n",
    "\n",
    "plt.tight_layout()\n",
    "plt.show()"
   ]
  },
  {
   "cell_type": "markdown",
   "id": "ab03a70b",
   "metadata": {
    "id": "ab03a70b"
   },
   "source": [
    "График позволяет оценить распределение зарплат в USD. Верхний ус указывает на максимальное значение, нижний - на минимальное. Отмечены точки, которые являются потенциальными выбросами (значениями, находящимися далеко от медианы). Выбросы могут быть связаны с необычно высокими или низкими зарплатами."
   ]
  },
  {
   "cell_type": "markdown",
   "id": "72fd5c90",
   "metadata": {
    "id": "72fd5c90"
   },
   "source": [
    "Выбросы по параметру года работы существуют. Отклонения находятся в диапазоне до 2021 года.\n",
    "\n",
    "Выбросы по параметру зарплаты существенны и занимают большую часть графика из-за большого масштаба разброса.\n",
    "\n",
    "Выбросы по параметру зарплаты в долларах находятся также по правую сторону графика и относятся к зарплате от ~290000$ и выше.\n",
    "\n",
    "Далее их следует обработать, чтобы добиться точности при анализе среднестатистического работника."
   ]
  },
  {
   "cell_type": "markdown",
   "id": "244c83fa",
   "metadata": {
    "id": "244c83fa"
   },
   "source": [
    "### Расчет интерквартильного размаха"
   ]
  },
  {
   "cell_type": "code",
   "execution_count": 84,
   "id": "27830bef",
   "metadata": {
    "colab": {
     "base_uri": "https://localhost:8080/"
    },
    "id": "27830bef",
    "outputId": "ba7c5ac6-0226-4658-9ab0-b0e1f02a51de"
   },
   "outputs": [
    {
     "name": "stdout",
     "output_type": "stream",
     "text": [
      "134053.55823016964\n",
      "64797.957697389895\n",
      "Выбросы по межквартильному размаху:\n",
      "33     342810\n",
      "68     309400\n",
      "83     300000\n",
      "133    342300\n",
      "145    318300\n",
      "        ...  \n",
      "225    416000\n",
      "252    600000\n",
      "482    324000\n",
      "519    380000\n",
      "523    405000\n",
      "Name: salary_in_usd, Length: 68, dtype: int64\n",
      "\n",
      "Выбросы по среднеквадратичному отклонению:\n",
      "21     275000\n",
      "33     342810\n",
      "44     270703\n",
      "50     275300\n",
      "68     309400\n",
      "        ...  \n",
      "252    600000\n",
      "482    324000\n",
      "519    380000\n",
      "523    405000\n",
      "534    266400\n",
      "Name: salary_in_usd, Length: 125, dtype: int64\n"
     ]
    }
   ],
   "source": [
    "salary_in_usd = data['salary_in_usd']\n",
    "\n",
    "# Межквартильный размах\n",
    "q1 = salary_in_usd.quantile(0.25)\n",
    "q3 = salary_in_usd.quantile(0.75)\n",
    "iqr = q3 - q1\n",
    "\n",
    "# Границы для определения выбросов по межквартильному размаху\n",
    "lower_bound_iqr = q1 - 1.5 * iqr\n",
    "upper_bound_iqr = q3 + 1.5 * iqr\n",
    "\n",
    "# Среднеквадратичное отклонение от среднего\n",
    "mean_salary_in_usd = salary_in_usd.mean()\n",
    "std_dev = salary_in_usd.std()\n",
    "print(mean_salary_in_usd)\n",
    "print(std_dev)\n",
    "\n",
    "# Границы для определения выбросов по среднеквадратичному отклонению\n",
    "lower_bound_std = mean_salary_in_usd - 2 * std_dev\n",
    "upper_bound_std = mean_salary_in_usd + 2 * std_dev\n",
    "\n",
    "# Выбросы по межквартильному размаху\n",
    "outliers_iqr = salary_in_usd[(salary_in_usd < lower_bound_iqr) | (salary_in_usd > upper_bound_iqr)]\n",
    "\n",
    "# Выбросы по среднеквадратичному отклонению\n",
    "outliers_std = salary_in_usd[(salary_in_usd < lower_bound_std) | (salary_in_usd > upper_bound_std)]\n",
    "\n",
    "print(\"Выбросы по межквартильному размаху:\")\n",
    "print(outliers_iqr)\n",
    "print(\"\\nВыбросы по среднеквадратичному отклонению:\")\n",
    "print(outliers_std)"
   ]
  },
  {
   "cell_type": "markdown",
   "id": "902f6100",
   "metadata": {
    "id": "902f6100"
   },
   "source": [
    "**Межквартильный размах**: Выбросы определяются по границам, находящимся за пределами 1.5 межквартильных размаха от первого и третьего квартиля. В данном случае, значения за пределами этих границ считаются выбросами.\n",
    "\n",
    "**Среднеквадратичное отклонение**: Выбросы определяются по границам, находящимся за пределами 2 среднеквадратичных отклонений от среднего значения. Здесь, значения за пределами этих границ считаются выбросами.\n",
    "\n",
    "Выбросы по межквартильному размаху и среднеквадратичному отклонению отличаются по числу и значениям. Межквартильный размах определяет более узкий диапазон выбросов, чем среднеквадратичное отклонение.\n",
    "\n",
    "Различия могут быть обусловлены разными методами определения выбросов. Межквартильный размах основывается на квартилях и менее чувствителен к выбросам в хвостах распределения, в то время как среднеквадратичное отклонение более чувствительно к отклонениям от среднего значения."
   ]
  },
  {
   "cell_type": "markdown",
   "id": "2b76f4b9",
   "metadata": {
    "id": "2b76f4b9"
   },
   "source": [
    "### Расчёт мцт до и после удаление выбросов"
   ]
  },
  {
   "cell_type": "markdown",
   "id": "d553a2da",
   "metadata": {
    "id": "d553a2da"
   },
   "source": [
    "Выбор 2 стандартных отклонений обусловлен тем, что в нормальном распределении примерно 95% данных находятся в пределах двух стандартных отклонений от среднего. Таким образом, использование 2 стандартных отклонений позволяет выделить относительно \"экстремальные\" значения.\n",
    "\n",
    "Если использовать 3 стандартных отклонения, это охватит более широкий диапазон данных, примерно 99.7% данных в нормальном распределении. Однако это может быть слишком консервативным подходом, поэтому выбросы, лежащие за пределами 2 стандартных отклонений, могут быть более интересными для исследования."
   ]
  },
  {
   "cell_type": "code",
   "execution_count": 89,
   "id": "bf89b5ee",
   "metadata": {
    "colab": {
     "base_uri": "https://localhost:8080/"
    },
    "id": "bf89b5ee",
    "outputId": "4ac02ffa-5016-4630-a368-da1185214b79",
    "scrolled": true
   },
   "outputs": [
    {
     "name": "stdout",
     "output_type": "stream",
     "text": [
      "Среднее значение salary_in_usd до удаления выбросов: 134053.55823016964\n",
      "Медиана salary_in_usd до удаления выбросов: 130000.0\n",
      "\n",
      "Среднее значение salary_in_usd после удаления выбросов: 130685.9524918491\n",
      "Медиана salary_in_usd после удаления выбросов: 130000.0\n"
     ]
    }
   ],
   "source": [
    "# Расчет медианы и среднего для переменной \"salary_in_usd\" до удаления выбросов\n",
    "median_salary_in_usd_before = data['salary_in_usd'].median()\n",
    "mean_salary_in_usd_before = data['salary_in_usd'].mean()\n",
    "\n",
    "# Вывод результатов\n",
    "print(f\"Среднее значение salary_in_usd до удаления выбросов: {mean_salary_in_usd_before}\")\n",
    "print(f\"Медиана salary_in_usd до удаления выбросов: {median_salary_in_usd_before}\")\n",
    "\n",
    "# Копирование данных, чтобы не изменять оригинальный набор данных\n",
    "data_no_outliers = data.copy()\n",
    "\n",
    "# Удаление выбросов по межквартильному размаху\n",
    "data_no_outliers = data_no_outliers[(data_no_outliers['salary_in_usd'] >= lower_bound_iqr) & (data_no_outliers['salary_in_usd'] <= upper_bound_iqr)]\n",
    "\n",
    "# Повторный расчет мер центральной тенденции\n",
    "mean_salary_in_usd_no_outliers = data_no_outliers['salary_in_usd'].mean()\n",
    "median_salary_in_usd_no_outliers = data_no_outliers['salary_in_usd'].median()\n",
    "\n",
    "# Вывод результатов\n",
    "print(f\"\\nСреднее значение salary_in_usd после удаления выбросов: {mean_salary_in_usd_no_outliers}\")\n",
    "print(f\"Медиана salary_in_usd после удаления выбросов: {median_salary_in_usd_no_outliers}\")\n"
   ]
  },
  {
   "cell_type": "code",
   "execution_count": 90,
   "id": "2f1656e9",
   "metadata": {
    "colab": {
     "base_uri": "https://localhost:8080/"
    },
    "id": "2f1656e9",
    "outputId": "aea51bd9-cdbe-4d56-cd20-f7b078be92a1"
   },
   "outputs": [
    {
     "name": "stdout",
     "output_type": "stream",
     "text": [
      "\n",
      "Среднее значение salary_in_usd после удаления выбросов по стандартному отклонению: 128877.3792777909\n",
      "Медиана salary_in_usd после удаления выбросов по стандартному отклонению: 130000.0\n"
     ]
    }
   ],
   "source": [
    "# Копирование данных, чтобы не изменять оригинальный набор данных\n",
    "data_no_outliers_std = data.copy()\n",
    "\n",
    "# Удаление выбросов по стандартному отклонению\n",
    "data_no_outliers_std = data_no_outliers_std[(data_no_outliers_std['salary_in_usd'] >= lower_bound_std) & (data_no_outliers_std['salary_in_usd'] <= upper_bound_std)]\n",
    "\n",
    "# Повторный расчет мер центральной тенденции\n",
    "mean_salary_in_usd_no_outliers_std = data_no_outliers_std['salary_in_usd'].mean()\n",
    "median_salary_in_usd_no_outliers_std = data_no_outliers_std['salary_in_usd'].median()\n",
    "\n",
    "# Вывод результатов\n",
    "print(f\"\\nСреднее значение salary_in_usd после удаления выбросов по стандартному отклонению: {mean_salary_in_usd_no_outliers_std}\")\n",
    "print(f\"Медиана salary_in_usd после удаления выбросов по стандартному отклонению: {median_salary_in_usd_no_outliers_std}\")\n"
   ]
  },
  {
   "cell_type": "markdown",
   "id": "a4bae65c",
   "metadata": {
    "id": "a4bae65c"
   },
   "source": [
    "Результаты показывают, что после удаления выбросов среднее значение и медиана стали ближе друг к другу, что может указывать на более стабильное распределение данных.\n",
    "\n",
    "Замечу, что среднее и медиана у метода стандартных отклонений слегка меньше после обработки выбросов нежели у межквартильного размаха. Стандартное отклонение в целом сильнее подвержено влиянию экстремальных значений, поскольку оно учитывает каждое отклонение от среднего, в то время как IQR фокусируется на центральных 50% данных."
   ]
  },
  {
   "cell_type": "markdown",
   "id": "df498400",
   "metadata": {
    "id": "df498400"
   },
   "source": [
    "### Гистограмма без учета выбросов и после их удаления"
   ]
  },
  {
   "cell_type": "code",
   "execution_count": 92,
   "id": "db095b45",
   "metadata": {
    "colab": {
     "base_uri": "https://localhost:8080/",
     "height": 601
    },
    "id": "db095b45",
    "outputId": "0e9e1c8c-1c41-482e-c8ce-10f1e32d2781"
   },
   "outputs": [
    {
     "data": {
      "image/png": "[encoded data removed]",
      "text/plain": [
       "<Figure size 1200x600 with 2 Axes>"
      ]
     },
     "metadata": {},
     "output_type": "display_data"
    }
   ],
   "source": [
    "# Гистограмма до удаления выбросов\n",
    "plt.figure(figsize=(12, 6))\n",
    "plt.subplot(1, 2, 1)\n",
    "plt.hist(data['salary_in_usd'], bins=30, color='skyblue', edgecolor='black')\n",
    "plt.title('Гистограмма salary_in_usd до удаления выбросов', fontsize = 14)\n",
    "plt.xlabel('Зарплата в USD', fontsize = 13)\n",
    "plt.ylabel('Частота', fontsize = 13)\n",
    "\n",
    "# Гистограмма после удаления выбросов\n",
    "plt.subplot(1, 2, 2)\n",
    "plt.hist(data_no_outliers['salary_in_usd'], bins=30, color= '#DDA0DD', edgecolor='black')\n",
    "plt.title('Гистограмма salary_in_usd после удаления выбросов', fontsize = 14)\n",
    "plt.xlabel('Зарплата в USD', fontsize = 13)\n",
    "plt.ylabel('Частота', fontsize = 13)\n",
    "\n",
    "plt.tight_layout()\n",
    "plt.show()"
   ]
  },
  {
   "cell_type": "markdown",
   "id": "08911476",
   "metadata": {
    "id": "08911476"
   },
   "source": [
    "### Пропущенные значения"
   ]
  },
  {
   "cell_type": "markdown",
   "id": "992b246b",
   "metadata": {
    "id": "992b246b"
   },
   "source": [
    "Проверю, остались ли пропущенные значения в нашем датасете."
   ]
  },
  {
   "cell_type": "code",
   "execution_count": 93,
   "id": "f11e3b8b",
   "metadata": {
    "colab": {
     "base_uri": "https://localhost:8080/"
    },
    "id": "f11e3b8b",
    "outputId": "e53d5923-2ad3-4c87-d366-ba0035b33cc7"
   },
   "outputs": [
    {
     "data": {
      "text/plain": [
       "work_year             0\n",
       "experience_level      0\n",
       "employment_type       0\n",
       "job_title             0\n",
       "salary                0\n",
       "salary_currency       0\n",
       "salary_in_usd         0\n",
       "employee_residence    0\n",
       "remote_ratio          0\n",
       "company_location      0\n",
       "company_size          0\n",
       "Income_Category       0\n",
       "Remote_Category       0\n",
       "dtype: int64"
      ]
     },
     "execution_count": 93,
     "metadata": {},
     "output_type": "execute_result"
    }
   ],
   "source": [
    "data.isna().sum()"
   ]
  },
  {
   "cell_type": "markdown",
   "id": "31a3c50f",
   "metadata": {
    "id": "31a3c50f"
   },
   "source": [
    "Пропущенных данных, к счастью, нет."
   ]
  },
  {
   "cell_type": "markdown",
   "id": "24952a1f",
   "metadata": {
    "id": "24952a1f"
   },
   "source": [
    "# Корреляция"
   ]
  },
  {
   "cell_type": "markdown",
   "id": "639ec821",
   "metadata": {
    "id": "639ec821"
   },
   "source": [
    "Построю корреляционную матрицу по всем числовым признакам: work year, salary, salary in usd и remote ratio."
   ]
  },
  {
   "cell_type": "code",
   "execution_count": 94,
   "id": "63062602",
   "metadata": {
    "colab": {
     "base_uri": "https://localhost:8080/",
     "height": 173
    },
    "id": "63062602",
    "outputId": "c7c4a6f0-bbe0-4c99-9f56-15521f3ad558",
    "scrolled": true
   },
   "outputs": [
    {
     "data": {
      "text/html": [
       "<div>\n",
       "<style scoped>\n",
       "    .dataframe tbody tr th:only-of-type {\n",
       "        vertical-align: middle;\n",
       "    }\n",
       "\n",
       "    .dataframe tbody tr th {\n",
       "        vertical-align: top;\n",
       "    }\n",
       "\n",
       "    .dataframe thead th {\n",
       "        text-align: right;\n",
       "    }\n",
       "</style>\n",
       "<table border=\"1\" class=\"dataframe\">\n",
       "  <thead>\n",
       "    <tr style=\"text-align: right;\">\n",
       "      <th></th>\n",
       "      <th>work_year</th>\n",
       "      <th>salary</th>\n",
       "      <th>salary_in_usd</th>\n",
       "      <th>remote_ratio</th>\n",
       "    </tr>\n",
       "  </thead>\n",
       "  <tbody>\n",
       "    <tr>\n",
       "      <th>work_year</th>\n",
       "      <td>1.00</td>\n",
       "      <td>-0.10</td>\n",
       "      <td>0.25</td>\n",
       "      <td>-0.25</td>\n",
       "    </tr>\n",
       "    <tr>\n",
       "      <th>salary</th>\n",
       "      <td>-0.10</td>\n",
       "      <td>1.00</td>\n",
       "      <td>-0.05</td>\n",
       "      <td>0.03</td>\n",
       "    </tr>\n",
       "    <tr>\n",
       "      <th>salary_in_usd</th>\n",
       "      <td>0.25</td>\n",
       "      <td>-0.05</td>\n",
       "      <td>1.00</td>\n",
       "      <td>-0.06</td>\n",
       "    </tr>\n",
       "    <tr>\n",
       "      <th>remote_ratio</th>\n",
       "      <td>-0.25</td>\n",
       "      <td>0.03</td>\n",
       "      <td>-0.06</td>\n",
       "      <td>1.00</td>\n",
       "    </tr>\n",
       "  </tbody>\n",
       "</table>\n",
       "</div>"
      ],
      "text/plain": [
       "               work_year  salary  salary_in_usd  remote_ratio\n",
       "work_year           1.00   -0.10           0.25         -0.25\n",
       "salary             -0.10    1.00          -0.05          0.03\n",
       "salary_in_usd       0.25   -0.05           1.00         -0.06\n",
       "remote_ratio       -0.25    0.03          -0.06          1.00"
      ]
     },
     "execution_count": 94,
     "metadata": {},
     "output_type": "execute_result"
    }
   ],
   "source": [
    "correlation_matrix = data.corr().round(2)\n",
    "correlation_matrix"
   ]
  },
  {
   "cell_type": "markdown",
   "id": "3b8c66bd",
   "metadata": {
    "id": "3b8c66bd"
   },
   "source": [
    "Визуализирую корреляционную матрицу"
   ]
  },
  {
   "cell_type": "code",
   "execution_count": 95,
   "id": "ef4c48b5",
   "metadata": {
    "colab": {
     "base_uri": "https://localhost:8080/",
     "height": 555
    },
    "id": "ef4c48b5",
    "outputId": "6336e3b8-d63a-4bdc-e47f-fbb9d14f7594"
   },
   "outputs": [
    {
     "data": {
      "image/png": "[encoded data removed]",
      "text/plain": [
       "<Figure size 800x600 with 2 Axes>"
      ]
     },
     "metadata": {},
     "output_type": "display_data"
    }
   ],
   "source": [
    "plt.figure(figsize=(8, 6))\n",
    "sns.heatmap(correlation_matrix, annot=True, cmap=\"coolwarm\", fmt=\".2f\", linewidths=.5)\n",
    "plt.title('Тепловая карта корреляций', fontsize = 18)\n",
    "plt.show()"
   ]
  },
  {
   "cell_type": "markdown",
   "id": "98ca4605",
   "metadata": {
    "id": "98ca4605"
   },
   "source": [
    "1. **work_year и salary (-0.10):**\n",
    "   Слабая отрицательная корреляция между годом работы и зарплатой.\n",
    "\n",
    "2. **work_year и salary_in_usd (0.25):**\n",
    "   Умеренная положительная корреляция между годом работы и зарплатой в долларах США.\n",
    "\n",
    "3. **work_year и remote_ratio (-0.25):**\n",
    "   Слабая отрицательная корреляция между годом работы и соотношением удаленной работы.\n",
    "\n",
    "4. **salary и salary_in_usd (-0.05):**\n",
    "   Очень слабая отрицательная корреляция между зарплатой и зарплатой в долларах США.\n",
    "\n",
    "5. **salary и remote_ratio (0.03):**\n",
    "   Очень слабая положительная корреляция между зарплатой и соотношением удаленной работы.\n",
    "\n",
    "6. **salary_in_usd и remote_ratio (-0.06):**\n",
    "    Очень слабая отрицательная корреляция между зарплатой в долларах США и соотношением удаленной работы."
   ]
  },
  {
   "cell_type": "code",
   "execution_count": 99,
   "id": "5ba2598e",
   "metadata": {
    "colab": {
     "base_uri": "https://localhost:8080/",
     "height": 476
    },
    "id": "5ba2598e",
    "outputId": "1794554c-e2d7-46a4-fdf1-2150dd5ae224"
   },
   "outputs": [
    {
     "data": {
      "text/plain": [
       "Text(0.5, 1.0, 'График рассеяния корреляции между годом работы и зарплатой в долларах')"
      ]
     },
     "execution_count": 99,
     "metadata": {},
     "output_type": "execute_result"
    },
    {
     "data": {
      "image/png": "[encoded data removed]",
      "text/plain": [
       "<Figure size 640x480 with 1 Axes>"
      ]
     },
     "metadata": {},
     "output_type": "display_data"
    }
   ],
   "source": [
    "fig, ax = plt.subplots() #Построю график рассеяния корреляции между годом работы и зарплатой в долларах\n",
    "ax.scatter(data['work_year'], data['salary_in_usd'], alpha = 0.5, color = '#DDA0DD')\n",
    "ax.set_title(\"График рассеяния корреляции между годом работы и зарплатой в долларах\", fontsize = 16)"
   ]
  },
  {
   "cell_type": "markdown",
   "id": "1c0e1c57",
   "metadata": {},
   "source": [
    "Так, мне удалось объединить 2 набора данных и проанализировать их с точки зрения среднестатистического работника, удалить выбросы и визуализировать полученные результаты."
   ]
  }
 ],
 "metadata": {
  "colab": {
   "provenance": []
  },
  "kernelspec": {
   "display_name": "Python 3 (ipykernel)",
   "language": "python",
   "name": "python3"
  },
  "language_info": {
   "codemirror_mode": {
    "name": "ipython",
    "version": 3
   },
   "file_extension": ".py",
   "mimetype": "text/x-python",
   "name": "python",
   "nbconvert_exporter": "python",
   "pygments_lexer": "ipython3",
   "version": "3.9.13"
  }
 },
 "nbformat": 4,
 "nbformat_minor": 5
}
